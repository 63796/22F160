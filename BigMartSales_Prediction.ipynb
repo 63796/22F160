{
  "nbformat": 4,
  "nbformat_minor": 0,
  "metadata": {
    "colab": {
      "provenance": [],
      "include_colab_link": true
    },
    "kernelspec": {
      "name": "python3",
      "display_name": "Python 3"
    },
    "accelerator": "GPU"
  },
  "cells": [
    {
      "cell_type": "markdown",
      "metadata": {
        "id": "view-in-github",
        "colab_type": "text"
      },
      "source": [
        "<a href=\"https://colab.research.google.com/github/63796/22F160/blob/main/BigMartSales_Prediction.ipynb\" target=\"_parent\"><img src=\"https://colab.research.google.com/assets/colab-badge.svg\" alt=\"Open In Colab\"/></a>"
      ]
    },
    {
      "metadata": {
        "id": "ZW_ZTAhNAu7l"
      },
      "cell_type": "markdown",
      "source": [
        "**Importing the libraries**"
      ]
    },
    {
      "metadata": {
        "id": "URs2bq__ALsD"
      },
      "cell_type": "code",
      "source": [
        "import numpy as np\n",
        "import pandas as pd\n",
        "import sklearn\n",
        "import matplotlib.pyplot as plt\n",
        "import tensorflow as tf\n"
      ],
      "execution_count": 45,
      "outputs": []
    },
    {
      "metadata": {
        "id": "ybDlFfciBBC8"
      },
      "cell_type": "markdown",
      "source": [
        "**Importing the datasets**"
      ]
    },
    {
      "metadata": {
        "id": "-4eIZ1ZYBAVD",
        "outputId": "dc3ee9fd-1c9b-4587-ed09-407a6631a156",
        "colab": {
          "base_uri": "https://localhost:8080/",
          "height": 313
        }
      },
      "cell_type": "code",
      "source": [
        "train = pd.read_csv(\"bm_Test.csv\")\n",
        "test = pd.read_csv(\"bm_Test.csv\")\n",
        "\n",
        "# making copies of train and test dataset\n",
        "train = train.copy()\n",
        "test = test.copy()\n",
        "\n",
        "train.head()\n"
      ],
      "execution_count": 46,
      "outputs": [
        {
          "output_type": "execute_result",
          "data": {
            "text/plain": [
              "  Item_Identifier  Item_Weight Item_Fat_Content  Item_Visibility    Item_Type  \\\n",
              "0           FDW58       20.750          Low Fat         0.007565  Snack Foods   \n",
              "1           FDW14        8.300              reg         0.038428        Dairy   \n",
              "2           NCN55       14.600          Low Fat         0.099575       Others   \n",
              "3           FDQ58        7.315          Low Fat         0.015388  Snack Foods   \n",
              "4           FDY38          NaN          Regular         0.118599        Dairy   \n",
              "\n",
              "   Item_MRP Outlet_Identifier  Outlet_Establishment_Year Outlet_Size  \\\n",
              "0  107.8622            OUT049                       1999      Medium   \n",
              "1   87.3198            OUT017                       2007         NaN   \n",
              "2  241.7538            OUT010                       1998         NaN   \n",
              "3  155.0340            OUT017                       2007         NaN   \n",
              "4  234.2300            OUT027                       1985      Medium   \n",
              "\n",
              "  Outlet_Location_Type        Outlet_Type  \n",
              "0               Tier 1  Supermarket Type1  \n",
              "1               Tier 2  Supermarket Type1  \n",
              "2               Tier 3      Grocery Store  \n",
              "3               Tier 2  Supermarket Type1  \n",
              "4               Tier 3  Supermarket Type3  "
            ],
            "text/html": [
              "\n",
              "  <div id=\"df-cc68357f-43f6-4df2-bcfb-75c48d2c0bf9\" class=\"colab-df-container\">\n",
              "    <div>\n",
              "<style scoped>\n",
              "    .dataframe tbody tr th:only-of-type {\n",
              "        vertical-align: middle;\n",
              "    }\n",
              "\n",
              "    .dataframe tbody tr th {\n",
              "        vertical-align: top;\n",
              "    }\n",
              "\n",
              "    .dataframe thead th {\n",
              "        text-align: right;\n",
              "    }\n",
              "</style>\n",
              "<table border=\"1\" class=\"dataframe\">\n",
              "  <thead>\n",
              "    <tr style=\"text-align: right;\">\n",
              "      <th></th>\n",
              "      <th>Item_Identifier</th>\n",
              "      <th>Item_Weight</th>\n",
              "      <th>Item_Fat_Content</th>\n",
              "      <th>Item_Visibility</th>\n",
              "      <th>Item_Type</th>\n",
              "      <th>Item_MRP</th>\n",
              "      <th>Outlet_Identifier</th>\n",
              "      <th>Outlet_Establishment_Year</th>\n",
              "      <th>Outlet_Size</th>\n",
              "      <th>Outlet_Location_Type</th>\n",
              "      <th>Outlet_Type</th>\n",
              "    </tr>\n",
              "  </thead>\n",
              "  <tbody>\n",
              "    <tr>\n",
              "      <th>0</th>\n",
              "      <td>FDW58</td>\n",
              "      <td>20.750</td>\n",
              "      <td>Low Fat</td>\n",
              "      <td>0.007565</td>\n",
              "      <td>Snack Foods</td>\n",
              "      <td>107.8622</td>\n",
              "      <td>OUT049</td>\n",
              "      <td>1999</td>\n",
              "      <td>Medium</td>\n",
              "      <td>Tier 1</td>\n",
              "      <td>Supermarket Type1</td>\n",
              "    </tr>\n",
              "    <tr>\n",
              "      <th>1</th>\n",
              "      <td>FDW14</td>\n",
              "      <td>8.300</td>\n",
              "      <td>reg</td>\n",
              "      <td>0.038428</td>\n",
              "      <td>Dairy</td>\n",
              "      <td>87.3198</td>\n",
              "      <td>OUT017</td>\n",
              "      <td>2007</td>\n",
              "      <td>NaN</td>\n",
              "      <td>Tier 2</td>\n",
              "      <td>Supermarket Type1</td>\n",
              "    </tr>\n",
              "    <tr>\n",
              "      <th>2</th>\n",
              "      <td>NCN55</td>\n",
              "      <td>14.600</td>\n",
              "      <td>Low Fat</td>\n",
              "      <td>0.099575</td>\n",
              "      <td>Others</td>\n",
              "      <td>241.7538</td>\n",
              "      <td>OUT010</td>\n",
              "      <td>1998</td>\n",
              "      <td>NaN</td>\n",
              "      <td>Tier 3</td>\n",
              "      <td>Grocery Store</td>\n",
              "    </tr>\n",
              "    <tr>\n",
              "      <th>3</th>\n",
              "      <td>FDQ58</td>\n",
              "      <td>7.315</td>\n",
              "      <td>Low Fat</td>\n",
              "      <td>0.015388</td>\n",
              "      <td>Snack Foods</td>\n",
              "      <td>155.0340</td>\n",
              "      <td>OUT017</td>\n",
              "      <td>2007</td>\n",
              "      <td>NaN</td>\n",
              "      <td>Tier 2</td>\n",
              "      <td>Supermarket Type1</td>\n",
              "    </tr>\n",
              "    <tr>\n",
              "      <th>4</th>\n",
              "      <td>FDY38</td>\n",
              "      <td>NaN</td>\n",
              "      <td>Regular</td>\n",
              "      <td>0.118599</td>\n",
              "      <td>Dairy</td>\n",
              "      <td>234.2300</td>\n",
              "      <td>OUT027</td>\n",
              "      <td>1985</td>\n",
              "      <td>Medium</td>\n",
              "      <td>Tier 3</td>\n",
              "      <td>Supermarket Type3</td>\n",
              "    </tr>\n",
              "  </tbody>\n",
              "</table>\n",
              "</div>\n",
              "    <div class=\"colab-df-buttons\">\n",
              "\n",
              "  <div class=\"colab-df-container\">\n",
              "    <button class=\"colab-df-convert\" onclick=\"convertToInteractive('df-cc68357f-43f6-4df2-bcfb-75c48d2c0bf9')\"\n",
              "            title=\"Convert this dataframe to an interactive table.\"\n",
              "            style=\"display:none;\">\n",
              "\n",
              "  <svg xmlns=\"http://www.w3.org/2000/svg\" height=\"24px\" viewBox=\"0 -960 960 960\">\n",
              "    <path d=\"M120-120v-720h720v720H120Zm60-500h600v-160H180v160Zm220 220h160v-160H400v160Zm0 220h160v-160H400v160ZM180-400h160v-160H180v160Zm440 0h160v-160H620v160ZM180-180h160v-160H180v160Zm440 0h160v-160H620v160Z\"/>\n",
              "  </svg>\n",
              "    </button>\n",
              "\n",
              "  <style>\n",
              "    .colab-df-container {\n",
              "      display:flex;\n",
              "      gap: 12px;\n",
              "    }\n",
              "\n",
              "    .colab-df-convert {\n",
              "      background-color: #E8F0FE;\n",
              "      border: none;\n",
              "      border-radius: 50%;\n",
              "      cursor: pointer;\n",
              "      display: none;\n",
              "      fill: #1967D2;\n",
              "      height: 32px;\n",
              "      padding: 0 0 0 0;\n",
              "      width: 32px;\n",
              "    }\n",
              "\n",
              "    .colab-df-convert:hover {\n",
              "      background-color: #E2EBFA;\n",
              "      box-shadow: 0px 1px 2px rgba(60, 64, 67, 0.3), 0px 1px 3px 1px rgba(60, 64, 67, 0.15);\n",
              "      fill: #174EA6;\n",
              "    }\n",
              "\n",
              "    .colab-df-buttons div {\n",
              "      margin-bottom: 4px;\n",
              "    }\n",
              "\n",
              "    [theme=dark] .colab-df-convert {\n",
              "      background-color: #3B4455;\n",
              "      fill: #D2E3FC;\n",
              "    }\n",
              "\n",
              "    [theme=dark] .colab-df-convert:hover {\n",
              "      background-color: #434B5C;\n",
              "      box-shadow: 0px 1px 3px 1px rgba(0, 0, 0, 0.15);\n",
              "      filter: drop-shadow(0px 1px 2px rgba(0, 0, 0, 0.3));\n",
              "      fill: #FFFFFF;\n",
              "    }\n",
              "  </style>\n",
              "\n",
              "    <script>\n",
              "      const buttonEl =\n",
              "        document.querySelector('#df-cc68357f-43f6-4df2-bcfb-75c48d2c0bf9 button.colab-df-convert');\n",
              "      buttonEl.style.display =\n",
              "        google.colab.kernel.accessAllowed ? 'block' : 'none';\n",
              "\n",
              "      async function convertToInteractive(key) {\n",
              "        const element = document.querySelector('#df-cc68357f-43f6-4df2-bcfb-75c48d2c0bf9');\n",
              "        const dataTable =\n",
              "          await google.colab.kernel.invokeFunction('convertToInteractive',\n",
              "                                                    [key], {});\n",
              "        if (!dataTable) return;\n",
              "\n",
              "        const docLinkHtml = 'Like what you see? Visit the ' +\n",
              "          '<a target=\"_blank\" href=https://colab.research.google.com/notebooks/data_table.ipynb>data table notebook</a>'\n",
              "          + ' to learn more about interactive tables.';\n",
              "        element.innerHTML = '';\n",
              "        dataTable['output_type'] = 'display_data';\n",
              "        await google.colab.output.renderOutput(dataTable, element);\n",
              "        const docLink = document.createElement('div');\n",
              "        docLink.innerHTML = docLinkHtml;\n",
              "        element.appendChild(docLink);\n",
              "      }\n",
              "    </script>\n",
              "  </div>\n",
              "\n",
              "\n",
              "<div id=\"df-991a4aeb-b7e2-4580-9e23-d174cc0e208f\">\n",
              "  <button class=\"colab-df-quickchart\" onclick=\"quickchart('df-991a4aeb-b7e2-4580-9e23-d174cc0e208f')\"\n",
              "            title=\"Suggest charts\"\n",
              "            style=\"display:none;\">\n",
              "\n",
              "<svg xmlns=\"http://www.w3.org/2000/svg\" height=\"24px\"viewBox=\"0 0 24 24\"\n",
              "     width=\"24px\">\n",
              "    <g>\n",
              "        <path d=\"M19 3H5c-1.1 0-2 .9-2 2v14c0 1.1.9 2 2 2h14c1.1 0 2-.9 2-2V5c0-1.1-.9-2-2-2zM9 17H7v-7h2v7zm4 0h-2V7h2v10zm4 0h-2v-4h2v4z\"/>\n",
              "    </g>\n",
              "</svg>\n",
              "  </button>\n",
              "\n",
              "<style>\n",
              "  .colab-df-quickchart {\n",
              "      --bg-color: #E8F0FE;\n",
              "      --fill-color: #1967D2;\n",
              "      --hover-bg-color: #E2EBFA;\n",
              "      --hover-fill-color: #174EA6;\n",
              "      --disabled-fill-color: #AAA;\n",
              "      --disabled-bg-color: #DDD;\n",
              "  }\n",
              "\n",
              "  [theme=dark] .colab-df-quickchart {\n",
              "      --bg-color: #3B4455;\n",
              "      --fill-color: #D2E3FC;\n",
              "      --hover-bg-color: #434B5C;\n",
              "      --hover-fill-color: #FFFFFF;\n",
              "      --disabled-bg-color: #3B4455;\n",
              "      --disabled-fill-color: #666;\n",
              "  }\n",
              "\n",
              "  .colab-df-quickchart {\n",
              "    background-color: var(--bg-color);\n",
              "    border: none;\n",
              "    border-radius: 50%;\n",
              "    cursor: pointer;\n",
              "    display: none;\n",
              "    fill: var(--fill-color);\n",
              "    height: 32px;\n",
              "    padding: 0;\n",
              "    width: 32px;\n",
              "  }\n",
              "\n",
              "  .colab-df-quickchart:hover {\n",
              "    background-color: var(--hover-bg-color);\n",
              "    box-shadow: 0 1px 2px rgba(60, 64, 67, 0.3), 0 1px 3px 1px rgba(60, 64, 67, 0.15);\n",
              "    fill: var(--button-hover-fill-color);\n",
              "  }\n",
              "\n",
              "  .colab-df-quickchart-complete:disabled,\n",
              "  .colab-df-quickchart-complete:disabled:hover {\n",
              "    background-color: var(--disabled-bg-color);\n",
              "    fill: var(--disabled-fill-color);\n",
              "    box-shadow: none;\n",
              "  }\n",
              "\n",
              "  .colab-df-spinner {\n",
              "    border: 2px solid var(--fill-color);\n",
              "    border-color: transparent;\n",
              "    border-bottom-color: var(--fill-color);\n",
              "    animation:\n",
              "      spin 1s steps(1) infinite;\n",
              "  }\n",
              "\n",
              "  @keyframes spin {\n",
              "    0% {\n",
              "      border-color: transparent;\n",
              "      border-bottom-color: var(--fill-color);\n",
              "      border-left-color: var(--fill-color);\n",
              "    }\n",
              "    20% {\n",
              "      border-color: transparent;\n",
              "      border-left-color: var(--fill-color);\n",
              "      border-top-color: var(--fill-color);\n",
              "    }\n",
              "    30% {\n",
              "      border-color: transparent;\n",
              "      border-left-color: var(--fill-color);\n",
              "      border-top-color: var(--fill-color);\n",
              "      border-right-color: var(--fill-color);\n",
              "    }\n",
              "    40% {\n",
              "      border-color: transparent;\n",
              "      border-right-color: var(--fill-color);\n",
              "      border-top-color: var(--fill-color);\n",
              "    }\n",
              "    60% {\n",
              "      border-color: transparent;\n",
              "      border-right-color: var(--fill-color);\n",
              "    }\n",
              "    80% {\n",
              "      border-color: transparent;\n",
              "      border-right-color: var(--fill-color);\n",
              "      border-bottom-color: var(--fill-color);\n",
              "    }\n",
              "    90% {\n",
              "      border-color: transparent;\n",
              "      border-bottom-color: var(--fill-color);\n",
              "    }\n",
              "  }\n",
              "</style>\n",
              "\n",
              "  <script>\n",
              "    async function quickchart(key) {\n",
              "      const quickchartButtonEl =\n",
              "        document.querySelector('#' + key + ' button');\n",
              "      quickchartButtonEl.disabled = true;  // To prevent multiple clicks.\n",
              "      quickchartButtonEl.classList.add('colab-df-spinner');\n",
              "      try {\n",
              "        const charts = await google.colab.kernel.invokeFunction(\n",
              "            'suggestCharts', [key], {});\n",
              "      } catch (error) {\n",
              "        console.error('Error during call to suggestCharts:', error);\n",
              "      }\n",
              "      quickchartButtonEl.classList.remove('colab-df-spinner');\n",
              "      quickchartButtonEl.classList.add('colab-df-quickchart-complete');\n",
              "    }\n",
              "    (() => {\n",
              "      let quickchartButtonEl =\n",
              "        document.querySelector('#df-991a4aeb-b7e2-4580-9e23-d174cc0e208f button');\n",
              "      quickchartButtonEl.style.display =\n",
              "        google.colab.kernel.accessAllowed ? 'block' : 'none';\n",
              "    })();\n",
              "  </script>\n",
              "</div>\n",
              "    </div>\n",
              "  </div>\n"
            ],
            "application/vnd.google.colaboratory.intrinsic+json": {
              "type": "dataframe",
              "variable_name": "train",
              "summary": "{\n  \"name\": \"train\",\n  \"rows\": 5681,\n  \"fields\": [\n    {\n      \"column\": \"Item_Identifier\",\n      \"properties\": {\n        \"dtype\": \"category\",\n        \"num_unique_values\": 1543,\n        \"samples\": [\n          \"FDC29\",\n          \"FDI32\",\n          \"FDU55\"\n        ],\n        \"semantic_type\": \"\",\n        \"description\": \"\"\n      }\n    },\n    {\n      \"column\": \"Item_Weight\",\n      \"properties\": {\n        \"dtype\": \"number\",\n        \"std\": 4.664848587385396,\n        \"min\": 4.555,\n        \"max\": 21.35,\n        \"num_unique_values\": 410,\n        \"samples\": [\n          8.1,\n          10.695,\n          18.0\n        ],\n        \"semantic_type\": \"\",\n        \"description\": \"\"\n      }\n    },\n    {\n      \"column\": \"Item_Fat_Content\",\n      \"properties\": {\n        \"dtype\": \"category\",\n        \"num_unique_values\": 5,\n        \"samples\": [\n          \"reg\",\n          \"low fat\",\n          \"Regular\"\n        ],\n        \"semantic_type\": \"\",\n        \"description\": \"\"\n      }\n    },\n    {\n      \"column\": \"Item_Visibility\",\n      \"properties\": {\n        \"dtype\": \"number\",\n        \"std\": 0.051252368331661725,\n        \"min\": 0.0,\n        \"max\": 0.323637245,\n        \"num_unique_values\": 5277,\n        \"samples\": [\n          0.123365446,\n          0.183275872,\n          0.165907543\n        ],\n        \"semantic_type\": \"\",\n        \"description\": \"\"\n      }\n    },\n    {\n      \"column\": \"Item_Type\",\n      \"properties\": {\n        \"dtype\": \"category\",\n        \"num_unique_values\": 16,\n        \"samples\": [\n          \"Snack Foods\",\n          \"Dairy\",\n          \"Health and Hygiene\"\n        ],\n        \"semantic_type\": \"\",\n        \"description\": \"\"\n      }\n    },\n    {\n      \"column\": \"Item_MRP\",\n      \"properties\": {\n        \"dtype\": \"number\",\n        \"std\": 61.809090595947346,\n        \"min\": 31.99,\n        \"max\": 266.5884,\n        \"num_unique_values\": 4402,\n        \"samples\": [\n          79.0328,\n          145.7418,\n          216.6192\n        ],\n        \"semantic_type\": \"\",\n        \"description\": \"\"\n      }\n    },\n    {\n      \"column\": \"Outlet_Identifier\",\n      \"properties\": {\n        \"dtype\": \"category\",\n        \"num_unique_values\": 10,\n        \"samples\": [\n          \"OUT013\",\n          \"OUT017\",\n          \"OUT018\"\n        ],\n        \"semantic_type\": \"\",\n        \"description\": \"\"\n      }\n    },\n    {\n      \"column\": \"Outlet_Establishment_Year\",\n      \"properties\": {\n        \"dtype\": \"number\",\n        \"std\": 8,\n        \"min\": 1985,\n        \"max\": 2009,\n        \"num_unique_values\": 9,\n        \"samples\": [\n          1987,\n          2007,\n          2009\n        ],\n        \"semantic_type\": \"\",\n        \"description\": \"\"\n      }\n    },\n    {\n      \"column\": \"Outlet_Size\",\n      \"properties\": {\n        \"dtype\": \"category\",\n        \"num_unique_values\": 3,\n        \"samples\": [\n          \"Medium\",\n          \"Small\",\n          \"High\"\n        ],\n        \"semantic_type\": \"\",\n        \"description\": \"\"\n      }\n    },\n    {\n      \"column\": \"Outlet_Location_Type\",\n      \"properties\": {\n        \"dtype\": \"category\",\n        \"num_unique_values\": 3,\n        \"samples\": [\n          \"Tier 1\",\n          \"Tier 2\",\n          \"Tier 3\"\n        ],\n        \"semantic_type\": \"\",\n        \"description\": \"\"\n      }\n    },\n    {\n      \"column\": \"Outlet_Type\",\n      \"properties\": {\n        \"dtype\": \"category\",\n        \"num_unique_values\": 4,\n        \"samples\": [\n          \"Grocery Store\",\n          \"Supermarket Type2\",\n          \"Supermarket Type1\"\n        ],\n        \"semantic_type\": \"\",\n        \"description\": \"\"\n      }\n    }\n  ]\n}"
            }
          },
          "metadata": {},
          "execution_count": 46
        }
      ]
    },
    {
      "cell_type": "markdown",
      "source": [
        "# New Section"
      ],
      "metadata": {
        "id": "Pz57XMbrZh0S"
      }
    },
    {
      "metadata": {
        "id": "rpmEX7jcBcrL",
        "outputId": "c50b426c-3e31-4213-e89f-0a7d5d62cedc",
        "colab": {
          "base_uri": "https://localhost:8080/",
          "height": 300
        }
      },
      "cell_type": "code",
      "source": [
        "train.describe()"
      ],
      "execution_count": 47,
      "outputs": [
        {
          "output_type": "execute_result",
          "data": {
            "text/plain": [
              "       Item_Weight  Item_Visibility     Item_MRP  Outlet_Establishment_Year\n",
              "count  4705.000000      5681.000000  5681.000000                5681.000000\n",
              "mean     12.695633         0.065684   141.023273                1997.828903\n",
              "std       4.664849         0.051252    61.809091                   8.372256\n",
              "min       4.555000         0.000000    31.990000                1985.000000\n",
              "25%       8.645000         0.027047    94.412000                1987.000000\n",
              "50%      12.500000         0.054154   141.415400                1999.000000\n",
              "75%      16.700000         0.093463   186.026600                2004.000000\n",
              "max      21.350000         0.323637   266.588400                2009.000000"
            ],
            "text/html": [
              "\n",
              "  <div id=\"df-13140ba8-5039-4156-9d97-fcf5ef6a8c35\" class=\"colab-df-container\">\n",
              "    <div>\n",
              "<style scoped>\n",
              "    .dataframe tbody tr th:only-of-type {\n",
              "        vertical-align: middle;\n",
              "    }\n",
              "\n",
              "    .dataframe tbody tr th {\n",
              "        vertical-align: top;\n",
              "    }\n",
              "\n",
              "    .dataframe thead th {\n",
              "        text-align: right;\n",
              "    }\n",
              "</style>\n",
              "<table border=\"1\" class=\"dataframe\">\n",
              "  <thead>\n",
              "    <tr style=\"text-align: right;\">\n",
              "      <th></th>\n",
              "      <th>Item_Weight</th>\n",
              "      <th>Item_Visibility</th>\n",
              "      <th>Item_MRP</th>\n",
              "      <th>Outlet_Establishment_Year</th>\n",
              "    </tr>\n",
              "  </thead>\n",
              "  <tbody>\n",
              "    <tr>\n",
              "      <th>count</th>\n",
              "      <td>4705.000000</td>\n",
              "      <td>5681.000000</td>\n",
              "      <td>5681.000000</td>\n",
              "      <td>5681.000000</td>\n",
              "    </tr>\n",
              "    <tr>\n",
              "      <th>mean</th>\n",
              "      <td>12.695633</td>\n",
              "      <td>0.065684</td>\n",
              "      <td>141.023273</td>\n",
              "      <td>1997.828903</td>\n",
              "    </tr>\n",
              "    <tr>\n",
              "      <th>std</th>\n",
              "      <td>4.664849</td>\n",
              "      <td>0.051252</td>\n",
              "      <td>61.809091</td>\n",
              "      <td>8.372256</td>\n",
              "    </tr>\n",
              "    <tr>\n",
              "      <th>min</th>\n",
              "      <td>4.555000</td>\n",
              "      <td>0.000000</td>\n",
              "      <td>31.990000</td>\n",
              "      <td>1985.000000</td>\n",
              "    </tr>\n",
              "    <tr>\n",
              "      <th>25%</th>\n",
              "      <td>8.645000</td>\n",
              "      <td>0.027047</td>\n",
              "      <td>94.412000</td>\n",
              "      <td>1987.000000</td>\n",
              "    </tr>\n",
              "    <tr>\n",
              "      <th>50%</th>\n",
              "      <td>12.500000</td>\n",
              "      <td>0.054154</td>\n",
              "      <td>141.415400</td>\n",
              "      <td>1999.000000</td>\n",
              "    </tr>\n",
              "    <tr>\n",
              "      <th>75%</th>\n",
              "      <td>16.700000</td>\n",
              "      <td>0.093463</td>\n",
              "      <td>186.026600</td>\n",
              "      <td>2004.000000</td>\n",
              "    </tr>\n",
              "    <tr>\n",
              "      <th>max</th>\n",
              "      <td>21.350000</td>\n",
              "      <td>0.323637</td>\n",
              "      <td>266.588400</td>\n",
              "      <td>2009.000000</td>\n",
              "    </tr>\n",
              "  </tbody>\n",
              "</table>\n",
              "</div>\n",
              "    <div class=\"colab-df-buttons\">\n",
              "\n",
              "  <div class=\"colab-df-container\">\n",
              "    <button class=\"colab-df-convert\" onclick=\"convertToInteractive('df-13140ba8-5039-4156-9d97-fcf5ef6a8c35')\"\n",
              "            title=\"Convert this dataframe to an interactive table.\"\n",
              "            style=\"display:none;\">\n",
              "\n",
              "  <svg xmlns=\"http://www.w3.org/2000/svg\" height=\"24px\" viewBox=\"0 -960 960 960\">\n",
              "    <path d=\"M120-120v-720h720v720H120Zm60-500h600v-160H180v160Zm220 220h160v-160H400v160Zm0 220h160v-160H400v160ZM180-400h160v-160H180v160Zm440 0h160v-160H620v160ZM180-180h160v-160H180v160Zm440 0h160v-160H620v160Z\"/>\n",
              "  </svg>\n",
              "    </button>\n",
              "\n",
              "  <style>\n",
              "    .colab-df-container {\n",
              "      display:flex;\n",
              "      gap: 12px;\n",
              "    }\n",
              "\n",
              "    .colab-df-convert {\n",
              "      background-color: #E8F0FE;\n",
              "      border: none;\n",
              "      border-radius: 50%;\n",
              "      cursor: pointer;\n",
              "      display: none;\n",
              "      fill: #1967D2;\n",
              "      height: 32px;\n",
              "      padding: 0 0 0 0;\n",
              "      width: 32px;\n",
              "    }\n",
              "\n",
              "    .colab-df-convert:hover {\n",
              "      background-color: #E2EBFA;\n",
              "      box-shadow: 0px 1px 2px rgba(60, 64, 67, 0.3), 0px 1px 3px 1px rgba(60, 64, 67, 0.15);\n",
              "      fill: #174EA6;\n",
              "    }\n",
              "\n",
              "    .colab-df-buttons div {\n",
              "      margin-bottom: 4px;\n",
              "    }\n",
              "\n",
              "    [theme=dark] .colab-df-convert {\n",
              "      background-color: #3B4455;\n",
              "      fill: #D2E3FC;\n",
              "    }\n",
              "\n",
              "    [theme=dark] .colab-df-convert:hover {\n",
              "      background-color: #434B5C;\n",
              "      box-shadow: 0px 1px 3px 1px rgba(0, 0, 0, 0.15);\n",
              "      filter: drop-shadow(0px 1px 2px rgba(0, 0, 0, 0.3));\n",
              "      fill: #FFFFFF;\n",
              "    }\n",
              "  </style>\n",
              "\n",
              "    <script>\n",
              "      const buttonEl =\n",
              "        document.querySelector('#df-13140ba8-5039-4156-9d97-fcf5ef6a8c35 button.colab-df-convert');\n",
              "      buttonEl.style.display =\n",
              "        google.colab.kernel.accessAllowed ? 'block' : 'none';\n",
              "\n",
              "      async function convertToInteractive(key) {\n",
              "        const element = document.querySelector('#df-13140ba8-5039-4156-9d97-fcf5ef6a8c35');\n",
              "        const dataTable =\n",
              "          await google.colab.kernel.invokeFunction('convertToInteractive',\n",
              "                                                    [key], {});\n",
              "        if (!dataTable) return;\n",
              "\n",
              "        const docLinkHtml = 'Like what you see? Visit the ' +\n",
              "          '<a target=\"_blank\" href=https://colab.research.google.com/notebooks/data_table.ipynb>data table notebook</a>'\n",
              "          + ' to learn more about interactive tables.';\n",
              "        element.innerHTML = '';\n",
              "        dataTable['output_type'] = 'display_data';\n",
              "        await google.colab.output.renderOutput(dataTable, element);\n",
              "        const docLink = document.createElement('div');\n",
              "        docLink.innerHTML = docLinkHtml;\n",
              "        element.appendChild(docLink);\n",
              "      }\n",
              "    </script>\n",
              "  </div>\n",
              "\n",
              "\n",
              "<div id=\"df-515ed809-4943-489a-9236-918b60a85f3a\">\n",
              "  <button class=\"colab-df-quickchart\" onclick=\"quickchart('df-515ed809-4943-489a-9236-918b60a85f3a')\"\n",
              "            title=\"Suggest charts\"\n",
              "            style=\"display:none;\">\n",
              "\n",
              "<svg xmlns=\"http://www.w3.org/2000/svg\" height=\"24px\"viewBox=\"0 0 24 24\"\n",
              "     width=\"24px\">\n",
              "    <g>\n",
              "        <path d=\"M19 3H5c-1.1 0-2 .9-2 2v14c0 1.1.9 2 2 2h14c1.1 0 2-.9 2-2V5c0-1.1-.9-2-2-2zM9 17H7v-7h2v7zm4 0h-2V7h2v10zm4 0h-2v-4h2v4z\"/>\n",
              "    </g>\n",
              "</svg>\n",
              "  </button>\n",
              "\n",
              "<style>\n",
              "  .colab-df-quickchart {\n",
              "      --bg-color: #E8F0FE;\n",
              "      --fill-color: #1967D2;\n",
              "      --hover-bg-color: #E2EBFA;\n",
              "      --hover-fill-color: #174EA6;\n",
              "      --disabled-fill-color: #AAA;\n",
              "      --disabled-bg-color: #DDD;\n",
              "  }\n",
              "\n",
              "  [theme=dark] .colab-df-quickchart {\n",
              "      --bg-color: #3B4455;\n",
              "      --fill-color: #D2E3FC;\n",
              "      --hover-bg-color: #434B5C;\n",
              "      --hover-fill-color: #FFFFFF;\n",
              "      --disabled-bg-color: #3B4455;\n",
              "      --disabled-fill-color: #666;\n",
              "  }\n",
              "\n",
              "  .colab-df-quickchart {\n",
              "    background-color: var(--bg-color);\n",
              "    border: none;\n",
              "    border-radius: 50%;\n",
              "    cursor: pointer;\n",
              "    display: none;\n",
              "    fill: var(--fill-color);\n",
              "    height: 32px;\n",
              "    padding: 0;\n",
              "    width: 32px;\n",
              "  }\n",
              "\n",
              "  .colab-df-quickchart:hover {\n",
              "    background-color: var(--hover-bg-color);\n",
              "    box-shadow: 0 1px 2px rgba(60, 64, 67, 0.3), 0 1px 3px 1px rgba(60, 64, 67, 0.15);\n",
              "    fill: var(--button-hover-fill-color);\n",
              "  }\n",
              "\n",
              "  .colab-df-quickchart-complete:disabled,\n",
              "  .colab-df-quickchart-complete:disabled:hover {\n",
              "    background-color: var(--disabled-bg-color);\n",
              "    fill: var(--disabled-fill-color);\n",
              "    box-shadow: none;\n",
              "  }\n",
              "\n",
              "  .colab-df-spinner {\n",
              "    border: 2px solid var(--fill-color);\n",
              "    border-color: transparent;\n",
              "    border-bottom-color: var(--fill-color);\n",
              "    animation:\n",
              "      spin 1s steps(1) infinite;\n",
              "  }\n",
              "\n",
              "  @keyframes spin {\n",
              "    0% {\n",
              "      border-color: transparent;\n",
              "      border-bottom-color: var(--fill-color);\n",
              "      border-left-color: var(--fill-color);\n",
              "    }\n",
              "    20% {\n",
              "      border-color: transparent;\n",
              "      border-left-color: var(--fill-color);\n",
              "      border-top-color: var(--fill-color);\n",
              "    }\n",
              "    30% {\n",
              "      border-color: transparent;\n",
              "      border-left-color: var(--fill-color);\n",
              "      border-top-color: var(--fill-color);\n",
              "      border-right-color: var(--fill-color);\n",
              "    }\n",
              "    40% {\n",
              "      border-color: transparent;\n",
              "      border-right-color: var(--fill-color);\n",
              "      border-top-color: var(--fill-color);\n",
              "    }\n",
              "    60% {\n",
              "      border-color: transparent;\n",
              "      border-right-color: var(--fill-color);\n",
              "    }\n",
              "    80% {\n",
              "      border-color: transparent;\n",
              "      border-right-color: var(--fill-color);\n",
              "      border-bottom-color: var(--fill-color);\n",
              "    }\n",
              "    90% {\n",
              "      border-color: transparent;\n",
              "      border-bottom-color: var(--fill-color);\n",
              "    }\n",
              "  }\n",
              "</style>\n",
              "\n",
              "  <script>\n",
              "    async function quickchart(key) {\n",
              "      const quickchartButtonEl =\n",
              "        document.querySelector('#' + key + ' button');\n",
              "      quickchartButtonEl.disabled = true;  // To prevent multiple clicks.\n",
              "      quickchartButtonEl.classList.add('colab-df-spinner');\n",
              "      try {\n",
              "        const charts = await google.colab.kernel.invokeFunction(\n",
              "            'suggestCharts', [key], {});\n",
              "      } catch (error) {\n",
              "        console.error('Error during call to suggestCharts:', error);\n",
              "      }\n",
              "      quickchartButtonEl.classList.remove('colab-df-spinner');\n",
              "      quickchartButtonEl.classList.add('colab-df-quickchart-complete');\n",
              "    }\n",
              "    (() => {\n",
              "      let quickchartButtonEl =\n",
              "        document.querySelector('#df-515ed809-4943-489a-9236-918b60a85f3a button');\n",
              "      quickchartButtonEl.style.display =\n",
              "        google.colab.kernel.accessAllowed ? 'block' : 'none';\n",
              "    })();\n",
              "  </script>\n",
              "</div>\n",
              "    </div>\n",
              "  </div>\n"
            ],
            "application/vnd.google.colaboratory.intrinsic+json": {
              "type": "dataframe",
              "summary": "{\n  \"name\": \"train\",\n  \"rows\": 8,\n  \"fields\": [\n    {\n      \"column\": \"Item_Weight\",\n      \"properties\": {\n        \"dtype\": \"number\",\n        \"std\": 1659.3818854915598,\n        \"min\": 4.555,\n        \"max\": 4705.0,\n        \"num_unique_values\": 8,\n        \"samples\": [\n          12.695633368756642,\n          12.5,\n          4705.0\n        ],\n        \"semantic_type\": \"\",\n        \"description\": \"\"\n      }\n    },\n    {\n      \"column\": \"Item_Visibility\",\n      \"properties\": {\n        \"dtype\": \"number\",\n        \"std\": 2008.5057402777645,\n        \"min\": 0.0,\n        \"max\": 5681.0,\n        \"num_unique_values\": 8,\n        \"samples\": [\n          0.06568385968808309,\n          0.054154252,\n          5681.0\n        ],\n        \"semantic_type\": \"\",\n        \"description\": \"\"\n      }\n    },\n    {\n      \"column\": \"Item_MRP\",\n      \"properties\": {\n        \"dtype\": \"number\",\n        \"std\": 1963.2713357819287,\n        \"min\": 31.99,\n        \"max\": 5681.0,\n        \"num_unique_values\": 8,\n        \"samples\": [\n          141.02327340256994,\n          141.4154,\n          5681.0\n        ],\n        \"semantic_type\": \"\",\n        \"description\": \"\"\n      }\n    },\n    {\n      \"column\": \"Outlet_Establishment_Year\",\n      \"properties\": {\n        \"dtype\": \"number\",\n        \"std\": 1566.056221466056,\n        \"min\": 8.372255636838975,\n        \"max\": 5681.0,\n        \"num_unique_values\": 8,\n        \"samples\": [\n          1997.8289033620842,\n          1999.0,\n          5681.0\n        ],\n        \"semantic_type\": \"\",\n        \"description\": \"\"\n      }\n    }\n  ]\n}"
            }
          },
          "metadata": {},
          "execution_count": 47
        }
      ]
    },
    {
      "metadata": {
        "id": "5i6wQeOlBiJQ",
        "outputId": "e8ca7a07-724d-414f-a70c-87e3da78bf98",
        "colab": {
          "base_uri": "https://localhost:8080/",
          "height": 300
        }
      },
      "cell_type": "code",
      "source": [
        "test.describe()"
      ],
      "execution_count": 48,
      "outputs": [
        {
          "output_type": "execute_result",
          "data": {
            "text/plain": [
              "       Item_Weight  Item_Visibility     Item_MRP  Outlet_Establishment_Year\n",
              "count  4705.000000      5681.000000  5681.000000                5681.000000\n",
              "mean     12.695633         0.065684   141.023273                1997.828903\n",
              "std       4.664849         0.051252    61.809091                   8.372256\n",
              "min       4.555000         0.000000    31.990000                1985.000000\n",
              "25%       8.645000         0.027047    94.412000                1987.000000\n",
              "50%      12.500000         0.054154   141.415400                1999.000000\n",
              "75%      16.700000         0.093463   186.026600                2004.000000\n",
              "max      21.350000         0.323637   266.588400                2009.000000"
            ],
            "text/html": [
              "\n",
              "  <div id=\"df-761e3744-e5ab-466f-9e2d-5bc8f9b109da\" class=\"colab-df-container\">\n",
              "    <div>\n",
              "<style scoped>\n",
              "    .dataframe tbody tr th:only-of-type {\n",
              "        vertical-align: middle;\n",
              "    }\n",
              "\n",
              "    .dataframe tbody tr th {\n",
              "        vertical-align: top;\n",
              "    }\n",
              "\n",
              "    .dataframe thead th {\n",
              "        text-align: right;\n",
              "    }\n",
              "</style>\n",
              "<table border=\"1\" class=\"dataframe\">\n",
              "  <thead>\n",
              "    <tr style=\"text-align: right;\">\n",
              "      <th></th>\n",
              "      <th>Item_Weight</th>\n",
              "      <th>Item_Visibility</th>\n",
              "      <th>Item_MRP</th>\n",
              "      <th>Outlet_Establishment_Year</th>\n",
              "    </tr>\n",
              "  </thead>\n",
              "  <tbody>\n",
              "    <tr>\n",
              "      <th>count</th>\n",
              "      <td>4705.000000</td>\n",
              "      <td>5681.000000</td>\n",
              "      <td>5681.000000</td>\n",
              "      <td>5681.000000</td>\n",
              "    </tr>\n",
              "    <tr>\n",
              "      <th>mean</th>\n",
              "      <td>12.695633</td>\n",
              "      <td>0.065684</td>\n",
              "      <td>141.023273</td>\n",
              "      <td>1997.828903</td>\n",
              "    </tr>\n",
              "    <tr>\n",
              "      <th>std</th>\n",
              "      <td>4.664849</td>\n",
              "      <td>0.051252</td>\n",
              "      <td>61.809091</td>\n",
              "      <td>8.372256</td>\n",
              "    </tr>\n",
              "    <tr>\n",
              "      <th>min</th>\n",
              "      <td>4.555000</td>\n",
              "      <td>0.000000</td>\n",
              "      <td>31.990000</td>\n",
              "      <td>1985.000000</td>\n",
              "    </tr>\n",
              "    <tr>\n",
              "      <th>25%</th>\n",
              "      <td>8.645000</td>\n",
              "      <td>0.027047</td>\n",
              "      <td>94.412000</td>\n",
              "      <td>1987.000000</td>\n",
              "    </tr>\n",
              "    <tr>\n",
              "      <th>50%</th>\n",
              "      <td>12.500000</td>\n",
              "      <td>0.054154</td>\n",
              "      <td>141.415400</td>\n",
              "      <td>1999.000000</td>\n",
              "    </tr>\n",
              "    <tr>\n",
              "      <th>75%</th>\n",
              "      <td>16.700000</td>\n",
              "      <td>0.093463</td>\n",
              "      <td>186.026600</td>\n",
              "      <td>2004.000000</td>\n",
              "    </tr>\n",
              "    <tr>\n",
              "      <th>max</th>\n",
              "      <td>21.350000</td>\n",
              "      <td>0.323637</td>\n",
              "      <td>266.588400</td>\n",
              "      <td>2009.000000</td>\n",
              "    </tr>\n",
              "  </tbody>\n",
              "</table>\n",
              "</div>\n",
              "    <div class=\"colab-df-buttons\">\n",
              "\n",
              "  <div class=\"colab-df-container\">\n",
              "    <button class=\"colab-df-convert\" onclick=\"convertToInteractive('df-761e3744-e5ab-466f-9e2d-5bc8f9b109da')\"\n",
              "            title=\"Convert this dataframe to an interactive table.\"\n",
              "            style=\"display:none;\">\n",
              "\n",
              "  <svg xmlns=\"http://www.w3.org/2000/svg\" height=\"24px\" viewBox=\"0 -960 960 960\">\n",
              "    <path d=\"M120-120v-720h720v720H120Zm60-500h600v-160H180v160Zm220 220h160v-160H400v160Zm0 220h160v-160H400v160ZM180-400h160v-160H180v160Zm440 0h160v-160H620v160ZM180-180h160v-160H180v160Zm440 0h160v-160H620v160Z\"/>\n",
              "  </svg>\n",
              "    </button>\n",
              "\n",
              "  <style>\n",
              "    .colab-df-container {\n",
              "      display:flex;\n",
              "      gap: 12px;\n",
              "    }\n",
              "\n",
              "    .colab-df-convert {\n",
              "      background-color: #E8F0FE;\n",
              "      border: none;\n",
              "      border-radius: 50%;\n",
              "      cursor: pointer;\n",
              "      display: none;\n",
              "      fill: #1967D2;\n",
              "      height: 32px;\n",
              "      padding: 0 0 0 0;\n",
              "      width: 32px;\n",
              "    }\n",
              "\n",
              "    .colab-df-convert:hover {\n",
              "      background-color: #E2EBFA;\n",
              "      box-shadow: 0px 1px 2px rgba(60, 64, 67, 0.3), 0px 1px 3px 1px rgba(60, 64, 67, 0.15);\n",
              "      fill: #174EA6;\n",
              "    }\n",
              "\n",
              "    .colab-df-buttons div {\n",
              "      margin-bottom: 4px;\n",
              "    }\n",
              "\n",
              "    [theme=dark] .colab-df-convert {\n",
              "      background-color: #3B4455;\n",
              "      fill: #D2E3FC;\n",
              "    }\n",
              "\n",
              "    [theme=dark] .colab-df-convert:hover {\n",
              "      background-color: #434B5C;\n",
              "      box-shadow: 0px 1px 3px 1px rgba(0, 0, 0, 0.15);\n",
              "      filter: drop-shadow(0px 1px 2px rgba(0, 0, 0, 0.3));\n",
              "      fill: #FFFFFF;\n",
              "    }\n",
              "  </style>\n",
              "\n",
              "    <script>\n",
              "      const buttonEl =\n",
              "        document.querySelector('#df-761e3744-e5ab-466f-9e2d-5bc8f9b109da button.colab-df-convert');\n",
              "      buttonEl.style.display =\n",
              "        google.colab.kernel.accessAllowed ? 'block' : 'none';\n",
              "\n",
              "      async function convertToInteractive(key) {\n",
              "        const element = document.querySelector('#df-761e3744-e5ab-466f-9e2d-5bc8f9b109da');\n",
              "        const dataTable =\n",
              "          await google.colab.kernel.invokeFunction('convertToInteractive',\n",
              "                                                    [key], {});\n",
              "        if (!dataTable) return;\n",
              "\n",
              "        const docLinkHtml = 'Like what you see? Visit the ' +\n",
              "          '<a target=\"_blank\" href=https://colab.research.google.com/notebooks/data_table.ipynb>data table notebook</a>'\n",
              "          + ' to learn more about interactive tables.';\n",
              "        element.innerHTML = '';\n",
              "        dataTable['output_type'] = 'display_data';\n",
              "        await google.colab.output.renderOutput(dataTable, element);\n",
              "        const docLink = document.createElement('div');\n",
              "        docLink.innerHTML = docLinkHtml;\n",
              "        element.appendChild(docLink);\n",
              "      }\n",
              "    </script>\n",
              "  </div>\n",
              "\n",
              "\n",
              "<div id=\"df-fe5fa776-3108-4fdf-afe6-6a653c3fe414\">\n",
              "  <button class=\"colab-df-quickchart\" onclick=\"quickchart('df-fe5fa776-3108-4fdf-afe6-6a653c3fe414')\"\n",
              "            title=\"Suggest charts\"\n",
              "            style=\"display:none;\">\n",
              "\n",
              "<svg xmlns=\"http://www.w3.org/2000/svg\" height=\"24px\"viewBox=\"0 0 24 24\"\n",
              "     width=\"24px\">\n",
              "    <g>\n",
              "        <path d=\"M19 3H5c-1.1 0-2 .9-2 2v14c0 1.1.9 2 2 2h14c1.1 0 2-.9 2-2V5c0-1.1-.9-2-2-2zM9 17H7v-7h2v7zm4 0h-2V7h2v10zm4 0h-2v-4h2v4z\"/>\n",
              "    </g>\n",
              "</svg>\n",
              "  </button>\n",
              "\n",
              "<style>\n",
              "  .colab-df-quickchart {\n",
              "      --bg-color: #E8F0FE;\n",
              "      --fill-color: #1967D2;\n",
              "      --hover-bg-color: #E2EBFA;\n",
              "      --hover-fill-color: #174EA6;\n",
              "      --disabled-fill-color: #AAA;\n",
              "      --disabled-bg-color: #DDD;\n",
              "  }\n",
              "\n",
              "  [theme=dark] .colab-df-quickchart {\n",
              "      --bg-color: #3B4455;\n",
              "      --fill-color: #D2E3FC;\n",
              "      --hover-bg-color: #434B5C;\n",
              "      --hover-fill-color: #FFFFFF;\n",
              "      --disabled-bg-color: #3B4455;\n",
              "      --disabled-fill-color: #666;\n",
              "  }\n",
              "\n",
              "  .colab-df-quickchart {\n",
              "    background-color: var(--bg-color);\n",
              "    border: none;\n",
              "    border-radius: 50%;\n",
              "    cursor: pointer;\n",
              "    display: none;\n",
              "    fill: var(--fill-color);\n",
              "    height: 32px;\n",
              "    padding: 0;\n",
              "    width: 32px;\n",
              "  }\n",
              "\n",
              "  .colab-df-quickchart:hover {\n",
              "    background-color: var(--hover-bg-color);\n",
              "    box-shadow: 0 1px 2px rgba(60, 64, 67, 0.3), 0 1px 3px 1px rgba(60, 64, 67, 0.15);\n",
              "    fill: var(--button-hover-fill-color);\n",
              "  }\n",
              "\n",
              "  .colab-df-quickchart-complete:disabled,\n",
              "  .colab-df-quickchart-complete:disabled:hover {\n",
              "    background-color: var(--disabled-bg-color);\n",
              "    fill: var(--disabled-fill-color);\n",
              "    box-shadow: none;\n",
              "  }\n",
              "\n",
              "  .colab-df-spinner {\n",
              "    border: 2px solid var(--fill-color);\n",
              "    border-color: transparent;\n",
              "    border-bottom-color: var(--fill-color);\n",
              "    animation:\n",
              "      spin 1s steps(1) infinite;\n",
              "  }\n",
              "\n",
              "  @keyframes spin {\n",
              "    0% {\n",
              "      border-color: transparent;\n",
              "      border-bottom-color: var(--fill-color);\n",
              "      border-left-color: var(--fill-color);\n",
              "    }\n",
              "    20% {\n",
              "      border-color: transparent;\n",
              "      border-left-color: var(--fill-color);\n",
              "      border-top-color: var(--fill-color);\n",
              "    }\n",
              "    30% {\n",
              "      border-color: transparent;\n",
              "      border-left-color: var(--fill-color);\n",
              "      border-top-color: var(--fill-color);\n",
              "      border-right-color: var(--fill-color);\n",
              "    }\n",
              "    40% {\n",
              "      border-color: transparent;\n",
              "      border-right-color: var(--fill-color);\n",
              "      border-top-color: var(--fill-color);\n",
              "    }\n",
              "    60% {\n",
              "      border-color: transparent;\n",
              "      border-right-color: var(--fill-color);\n",
              "    }\n",
              "    80% {\n",
              "      border-color: transparent;\n",
              "      border-right-color: var(--fill-color);\n",
              "      border-bottom-color: var(--fill-color);\n",
              "    }\n",
              "    90% {\n",
              "      border-color: transparent;\n",
              "      border-bottom-color: var(--fill-color);\n",
              "    }\n",
              "  }\n",
              "</style>\n",
              "\n",
              "  <script>\n",
              "    async function quickchart(key) {\n",
              "      const quickchartButtonEl =\n",
              "        document.querySelector('#' + key + ' button');\n",
              "      quickchartButtonEl.disabled = true;  // To prevent multiple clicks.\n",
              "      quickchartButtonEl.classList.add('colab-df-spinner');\n",
              "      try {\n",
              "        const charts = await google.colab.kernel.invokeFunction(\n",
              "            'suggestCharts', [key], {});\n",
              "      } catch (error) {\n",
              "        console.error('Error during call to suggestCharts:', error);\n",
              "      }\n",
              "      quickchartButtonEl.classList.remove('colab-df-spinner');\n",
              "      quickchartButtonEl.classList.add('colab-df-quickchart-complete');\n",
              "    }\n",
              "    (() => {\n",
              "      let quickchartButtonEl =\n",
              "        document.querySelector('#df-fe5fa776-3108-4fdf-afe6-6a653c3fe414 button');\n",
              "      quickchartButtonEl.style.display =\n",
              "        google.colab.kernel.accessAllowed ? 'block' : 'none';\n",
              "    })();\n",
              "  </script>\n",
              "</div>\n",
              "    </div>\n",
              "  </div>\n"
            ],
            "application/vnd.google.colaboratory.intrinsic+json": {
              "type": "dataframe",
              "summary": "{\n  \"name\": \"test\",\n  \"rows\": 8,\n  \"fields\": [\n    {\n      \"column\": \"Item_Weight\",\n      \"properties\": {\n        \"dtype\": \"number\",\n        \"std\": 1659.3818854915598,\n        \"min\": 4.555,\n        \"max\": 4705.0,\n        \"num_unique_values\": 8,\n        \"samples\": [\n          12.695633368756642,\n          12.5,\n          4705.0\n        ],\n        \"semantic_type\": \"\",\n        \"description\": \"\"\n      }\n    },\n    {\n      \"column\": \"Item_Visibility\",\n      \"properties\": {\n        \"dtype\": \"number\",\n        \"std\": 2008.5057402777645,\n        \"min\": 0.0,\n        \"max\": 5681.0,\n        \"num_unique_values\": 8,\n        \"samples\": [\n          0.06568385968808309,\n          0.054154252,\n          5681.0\n        ],\n        \"semantic_type\": \"\",\n        \"description\": \"\"\n      }\n    },\n    {\n      \"column\": \"Item_MRP\",\n      \"properties\": {\n        \"dtype\": \"number\",\n        \"std\": 1963.2713357819287,\n        \"min\": 31.99,\n        \"max\": 5681.0,\n        \"num_unique_values\": 8,\n        \"samples\": [\n          141.02327340256994,\n          141.4154,\n          5681.0\n        ],\n        \"semantic_type\": \"\",\n        \"description\": \"\"\n      }\n    },\n    {\n      \"column\": \"Outlet_Establishment_Year\",\n      \"properties\": {\n        \"dtype\": \"number\",\n        \"std\": 1566.056221466056,\n        \"min\": 8.372255636838975,\n        \"max\": 5681.0,\n        \"num_unique_values\": 8,\n        \"samples\": [\n          1997.8289033620842,\n          1999.0,\n          5681.0\n        ],\n        \"semantic_type\": \"\",\n        \"description\": \"\"\n      }\n    }\n  ]\n}"
            }
          },
          "metadata": {},
          "execution_count": 48
        }
      ]
    },
    {
      "metadata": {
        "id": "MuJpgt7yBmqT",
        "outputId": "0777515b-2c44-45ff-aca7-5cc988d18914",
        "colab": {
          "base_uri": "https://localhost:8080/"
        }
      },
      "cell_type": "code",
      "source": [
        "# Checking the shape of the training and testing datasets\n",
        "\n",
        "print(train.shape)\n",
        "print(test.shape)"
      ],
      "execution_count": 49,
      "outputs": [
        {
          "output_type": "stream",
          "name": "stdout",
          "text": [
            "(5681, 11)\n",
            "(5681, 11)\n"
          ]
        }
      ]
    },
    {
      "metadata": {
        "id": "SUbzP0nNDhpz",
        "outputId": "1f991c91-aa21-4ebe-ef5f-1a9dd6aff01b",
        "colab": {
          "base_uri": "https://localhost:8080/"
        }
      },
      "cell_type": "code",
      "source": [
        "# combining the train and test dataset\n",
        "\n",
        "data = pd.concat([train, test])\n",
        "\n",
        "print(data.shape)"
      ],
      "execution_count": 74,
      "outputs": [
        {
          "output_type": "stream",
          "name": "stdout",
          "text": [
            "(14204, 12)\n"
          ]
        }
      ]
    },
    {
      "metadata": {
        "id": "qTC0hdM5B68_"
      },
      "cell_type": "markdown",
      "source": [
        "**Data Visualization**"
      ]
    },
    {
      "metadata": {
        "id": "UWUHX5ZbCBtr"
      },
      "cell_type": "markdown",
      "source": [
        "*univariate data analysis*"
      ]
    },
    {
      "metadata": {
        "id": "jFM9owPYhwYE",
        "outputId": "1f41b211-54db-4c1f-96d3-eb5f0f08ce97",
        "colab": {
          "base_uri": "https://localhost:8080/",
          "height": 562
        }
      },
      "cell_type": "code",
      "source": [
        "train = pd.read_csv(\"bm_Train.csv\")\n",
        "\n",
        "print(train.columns)\n",
        "plt.hist(train['Item_Outlet_Sales'], bins=20, color='pink')  # Self: This line creates a histogram of the 'Item_Outlet_Sales' column from the train DataFrame. Key: It visualizes the distribution of outlet sales with 20 bins and a pink color.\n",
        "\n",
        "\n",
        "plt.title('Target Variable')\n",
        "plt.xlabel('Item Outlet Sales')\n",
        "plt.ylabel('Count')\n",
        "plt.show()"
      ],
      "execution_count": 51,
      "outputs": [
        {
          "output_type": "stream",
          "name": "stdout",
          "text": [
            "Index(['Item_Identifier', 'Item_Weight', 'Item_Fat_Content', 'Item_Visibility',\n",
            "       'Item_Type', 'Item_MRP', 'Outlet_Identifier',\n",
            "       'Outlet_Establishment_Year', 'Outlet_Size', 'Outlet_Location_Type',\n",
            "       'Outlet_Type', 'Item_Outlet_Sales'],\n",
            "      dtype='object')\n"
          ]
        },
        {
          "output_type": "display_data",
          "data": {
            "text/plain": [
              "<Figure size 640x480 with 1 Axes>"
            ],
            "image/png": "[encoded data removed]"
          },
          "metadata": {}
        }
      ]
    },
    {
      "metadata": {
        "id": "nUo2AhmiCe-f",
        "outputId": "9ec3cdc3-ba75-4624-8c26-a8b1077d2e54",
        "colab": {
          "base_uri": "https://localhost:8080/"
        }
      },
      "cell_type": "code",
      "source": [
        "# checking the columns of the train set\n",
        "\n",
        "print(train.columns)"
      ],
      "execution_count": 52,
      "outputs": [
        {
          "output_type": "stream",
          "name": "stdout",
          "text": [
            "Index(['Item_Identifier', 'Item_Weight', 'Item_Fat_Content', 'Item_Visibility',\n",
            "       'Item_Type', 'Item_MRP', 'Outlet_Identifier',\n",
            "       'Outlet_Establishment_Year', 'Outlet_Size', 'Outlet_Location_Type',\n",
            "       'Outlet_Type', 'Item_Outlet_Sales'],\n",
            "      dtype='object')\n"
          ]
        }
      ]
    },
    {
      "metadata": {
        "id": "k6qkaJWcD8dm",
        "outputId": "56cac5f6-95fe-43d1-be1c-a065c976e397",
        "colab": {
          "base_uri": "https://localhost:8080/"
        }
      },
      "cell_type": "code",
      "source": [
        "train.dtypes"
      ],
      "execution_count": 53,
      "outputs": [
        {
          "output_type": "execute_result",
          "data": {
            "text/plain": [
              "Item_Identifier               object\n",
              "Item_Weight                  float64\n",
              "Item_Fat_Content              object\n",
              "Item_Visibility              float64\n",
              "Item_Type                     object\n",
              "Item_MRP                     float64\n",
              "Outlet_Identifier             object\n",
              "Outlet_Establishment_Year      int64\n",
              "Outlet_Size                   object\n",
              "Outlet_Location_Type          object\n",
              "Outlet_Type                   object\n",
              "Item_Outlet_Sales            float64\n",
              "dtype: object"
            ]
          },
          "metadata": {},
          "execution_count": 53
        }
      ]
    },
    {
      "metadata": {
        "id": "Lc8oh0ZlHOdT",
        "outputId": "a7dacb67-998d-4b39-e8ce-f8ea6e710d2d",
        "colab": {
          "base_uri": "https://localhost:8080/"
        }
      },
      "cell_type": "code",
      "source": [
        "# checking the different items in Item Idemtifier\n",
        "\n",
        "train['Item_Identifier'].value_counts()\n"
      ],
      "execution_count": 54,
      "outputs": [
        {
          "output_type": "execute_result",
          "data": {
            "text/plain": [
              "Item_Identifier\n",
              "FDW13    10\n",
              "FDG33    10\n",
              "NCL31     9\n",
              "NCQ06     9\n",
              "NCF42     9\n",
              "         ..\n",
              "FDY43     1\n",
              "DRF48     1\n",
              "FDK57     1\n",
              "FDE52     1\n",
              "FDT35     1\n",
              "Name: count, Length: 1559, dtype: int64"
            ]
          },
          "metadata": {},
          "execution_count": 54
        }
      ]
    },
    {
      "metadata": {
        "id": "dUA2pZDZB24Q",
        "outputId": "de861be1-27f9-424f-9853-a95c21d1d4bc",
        "colab": {
          "base_uri": "https://localhost:8080/",
          "height": 472
        }
      },
      "cell_type": "code",
      "source": [
        "# we will analyze only the training set\n",
        "\n",
        "train['Item_Identifier'].value_counts(normalize = True)\n",
        "train['Item_Identifier'].value_counts().plot.hist()\n",
        "plt.title('Different types of item available in the store')\n",
        "plt.xlabel('Item Identifier')\n",
        "plt.ylabel('Number of Items')\n",
        "plt.legend()\n",
        "plt.show()"
      ],
      "execution_count": 55,
      "outputs": [
        {
          "output_type": "display_data",
          "data": {
            "text/plain": [
              "<Figure size 640x480 with 1 Axes>"
            ],
            "image/png": "[encoded data removed]"
          },
          "metadata": {}
        }
      ]
    },
    {
      "metadata": {
        "id": "oOYixOAUDE5p",
        "outputId": "6aff34a5-9965-49a2-b97a-3757674e5c0a",
        "colab": {
          "base_uri": "https://localhost:8080/"
        }
      },
      "cell_type": "code",
      "source": [
        "# checking the different items in Item Fat Content\n",
        "\n",
        "train['Item_Fat_Content'].value_counts()\n"
      ],
      "execution_count": 56,
      "outputs": [
        {
          "output_type": "execute_result",
          "data": {
            "text/plain": [
              "Item_Fat_Content\n",
              "Low Fat    5089\n",
              "Regular    2889\n",
              "LF          316\n",
              "reg         117\n",
              "low fat     112\n",
              "Name: count, dtype: int64"
            ]
          },
          "metadata": {},
          "execution_count": 56
        }
      ]
    },
    {
      "metadata": {
        "id": "i5lyo7aHa5fT",
        "outputId": "5a149434-0e21-41aa-b090-d71f90880fd3",
        "colab": {
          "base_uri": "https://localhost:8080/",
          "height": 511
        }
      },
      "cell_type": "code",
      "source": [
        "# checking different varieties of item fat content\n",
        "\n",
        "train['Item_Fat_Content'].value_counts(normalize = True)\n",
        "train['Item_Fat_Content'].value_counts().plot.bar()\n",
        "plt.title('Different varieties of fats in item in the store')\n",
        "plt.xlabel('Fat')\n",
        "plt.ylabel('Number of Items')\n",
        "plt.show()"
      ],
      "execution_count": 57,
      "outputs": [
        {
          "output_type": "display_data",
          "data": {
            "text/plain": [
              "<Figure size 640x480 with 1 Axes>"
            ],
            "image/png": "[encoded data removed]"
          },
          "metadata": {}
        }
      ]
    },
    {
      "metadata": {
        "id": "IXr6Fb_hIc-C",
        "outputId": "da7c6195-90ec-4709-f5ab-f824bd0652c2",
        "colab": {
          "base_uri": "https://localhost:8080/"
        }
      },
      "cell_type": "code",
      "source": [
        "# checking the different items in Item Type\n",
        "\n",
        "train['Item_Type'].value_counts()\n"
      ],
      "execution_count": 58,
      "outputs": [
        {
          "output_type": "execute_result",
          "data": {
            "text/plain": [
              "Item_Type\n",
              "Fruits and Vegetables    1232\n",
              "Snack Foods              1200\n",
              "Household                 910\n",
              "Frozen Foods              856\n",
              "Dairy                     682\n",
              "Canned                    649\n",
              "Baking Goods              648\n",
              "Health and Hygiene        520\n",
              "Soft Drinks               445\n",
              "Meat                      425\n",
              "Breads                    251\n",
              "Hard Drinks               214\n",
              "Others                    169\n",
              "Starchy Foods             148\n",
              "Breakfast                 110\n",
              "Seafood                    64\n",
              "Name: count, dtype: int64"
            ]
          },
          "metadata": {},
          "execution_count": 58
        }
      ]
    },
    {
      "metadata": {
        "id": "qXtPAMYaba3O",
        "outputId": "fbfe368e-ddbe-431d-fc7a-ff24b112a89c",
        "colab": {
          "base_uri": "https://localhost:8080/",
          "height": 607
        }
      },
      "cell_type": "code",
      "source": [
        "# we will analyze only the training set\n",
        "\n",
        "train['Item_Type'].value_counts(normalize = True)\n",
        "train['Item_Type'].value_counts().plot.bar()\n",
        "plt.title('Different types of item available in the store')\n",
        "plt.xlabel('Item')\n",
        "plt.ylabel('Number of Items')\n",
        "plt.show()"
      ],
      "execution_count": 59,
      "outputs": [
        {
          "output_type": "display_data",
          "data": {
            "text/plain": [
              "<Figure size 640x480 with 1 Axes>"
            ],
            "image/png": "[encoded data removed]"
          },
          "metadata": {}
        }
      ]
    },
    {
      "metadata": {
        "id": "gUTx5L6xIoxU",
        "outputId": "f58aaf64-fd50-41a7-9303-43ae4b0c4648",
        "colab": {
          "base_uri": "https://localhost:8080/"
        }
      },
      "cell_type": "code",
      "source": [
        "# checking the different types of Outlet Identifier\n",
        "\n",
        "train['Outlet_Identifier'].value_counts()\n"
      ],
      "execution_count": 60,
      "outputs": [
        {
          "output_type": "execute_result",
          "data": {
            "text/plain": [
              "Outlet_Identifier\n",
              "OUT027    935\n",
              "OUT013    932\n",
              "OUT035    930\n",
              "OUT049    930\n",
              "OUT046    930\n",
              "OUT045    929\n",
              "OUT018    928\n",
              "OUT017    926\n",
              "OUT010    555\n",
              "OUT019    528\n",
              "Name: count, dtype: int64"
            ]
          },
          "metadata": {},
          "execution_count": 60
        }
      ]
    },
    {
      "metadata": {
        "id": "U584tdFMc3e0",
        "outputId": "8186165e-26b2-4cc4-8a60-3229da5887c6",
        "colab": {
          "base_uri": "https://localhost:8080/",
          "height": 514
        }
      },
      "cell_type": "code",
      "source": [
        "# we will analyze only the training set\n",
        "\n",
        "train['Outlet_Identifier'].value_counts(normalize = True)\n",
        "train['Outlet_Identifier'].value_counts().plot.bar()\n",
        "plt.title('Different types of outlet identifier in the store')\n",
        "plt.xlabel('Item')\n",
        "plt.ylabel('Number of Items')\n",
        "plt.show()"
      ],
      "execution_count": 61,
      "outputs": [
        {
          "output_type": "display_data",
          "data": {
            "text/plain": [
              "<Figure size 640x480 with 1 Axes>"
            ],
            "image/png": "[encoded data removed]"
          },
          "metadata": {}
        }
      ]
    },
    {
      "metadata": {
        "id": "6aCf6VLGI1jm",
        "outputId": "e1425ee4-12a4-441e-92fc-77bf5acd2a14",
        "colab": {
          "base_uri": "https://localhost:8080/"
        }
      },
      "cell_type": "code",
      "source": [
        "# checking the different types of Outlet Size\n",
        "\n",
        "train['Outlet_Size'].value_counts()\n"
      ],
      "execution_count": 62,
      "outputs": [
        {
          "output_type": "execute_result",
          "data": {
            "text/plain": [
              "Outlet_Size\n",
              "Medium    2793\n",
              "Small     2388\n",
              "High       932\n",
              "Name: count, dtype: int64"
            ]
          },
          "metadata": {},
          "execution_count": 62
        }
      ]
    },
    {
      "metadata": {
        "id": "C4T_7_kadMTV",
        "outputId": "d97565d0-3294-4960-ea91-ac7c9c90c48c",
        "colab": {
          "base_uri": "https://localhost:8080/",
          "height": 513
        }
      },
      "cell_type": "code",
      "source": [
        "# we will analyze only the training set\n",
        "\n",
        "train['Outlet_Size'].value_counts(normalize = True)\n",
        "train['Outlet_Size'].value_counts().plot.bar()\n",
        "plt.title('Different types of outlet sizes in the store')\n",
        "plt.xlabel('Item')\n",
        "plt.ylabel('Number of Items')\n",
        "plt.show()"
      ],
      "execution_count": 63,
      "outputs": [
        {
          "output_type": "display_data",
          "data": {
            "text/plain": [
              "<Figure size 640x480 with 1 Axes>"
            ],
            "image/png": "[encoded data removed]"
          },
          "metadata": {}
        }
      ]
    },
    {
      "metadata": {
        "id": "8umNTuZHJByy",
        "outputId": "cfb18488-dfa7-4efc-9ace-b055fe1a0040",
        "colab": {
          "base_uri": "https://localhost:8080/"
        }
      },
      "cell_type": "code",
      "source": [
        "# checking different types of items in Outlet Location Type\n",
        "\n",
        "train['Outlet_Location_Type'].value_counts()\n"
      ],
      "execution_count": 64,
      "outputs": [
        {
          "output_type": "execute_result",
          "data": {
            "text/plain": [
              "Outlet_Location_Type\n",
              "Tier 3    3350\n",
              "Tier 2    2785\n",
              "Tier 1    2388\n",
              "Name: count, dtype: int64"
            ]
          },
          "metadata": {},
          "execution_count": 64
        }
      ]
    },
    {
      "metadata": {
        "id": "HBuJk3wRdcZ2",
        "outputId": "a213acaf-2f8f-4895-b8b2-f08bfddc0c7c",
        "colab": {
          "base_uri": "https://localhost:8080/",
          "height": 497
        }
      },
      "cell_type": "code",
      "source": [
        "# we will analyze only the training set\n",
        "\n",
        "train['Outlet_Location_Type'].value_counts(normalize = True)\n",
        "train['Outlet_Location_Type'].value_counts().plot.bar()\n",
        "plt.title('Different types of outlet location types in the store')\n",
        "plt.xlabel('Item')\n",
        "plt.ylabel('Number of Items')\n",
        "plt.show()"
      ],
      "execution_count": 65,
      "outputs": [
        {
          "output_type": "display_data",
          "data": {
            "text/plain": [
              "<Figure size 640x480 with 1 Axes>"
            ],
            "image/png": "[encoded data removed]"
          },
          "metadata": {}
        }
      ]
    },
    {
      "metadata": {
        "id": "HWBfXPNKJMJN",
        "outputId": "9893855b-09a2-4a69-9c2c-b50084af5228",
        "colab": {
          "base_uri": "https://localhost:8080/"
        }
      },
      "cell_type": "code",
      "source": [
        "# checking different types of item in Outlet Type\n",
        "\n",
        "train['Outlet_Type'].value_counts()"
      ],
      "execution_count": 66,
      "outputs": [
        {
          "output_type": "execute_result",
          "data": {
            "text/plain": [
              "Outlet_Type\n",
              "Supermarket Type1    5577\n",
              "Grocery Store        1083\n",
              "Supermarket Type3     935\n",
              "Supermarket Type2     928\n",
              "Name: count, dtype: int64"
            ]
          },
          "metadata": {},
          "execution_count": 66
        }
      ]
    },
    {
      "metadata": {
        "id": "73UIcqRdJYOh",
        "outputId": "28eb4650-0744-4869-d01a-c867d3adba56",
        "colab": {
          "base_uri": "https://localhost:8080/",
          "height": 593
        }
      },
      "cell_type": "code",
      "source": [
        "# we will analyze only the training set\n",
        "\n",
        "train['Outlet_Type'].value_counts(normalize = True)\n",
        "train['Outlet_Type'].value_counts().plot.bar()\n",
        "plt.title('Different types of outlet types in the store')\n",
        "plt.xlabel('Item')\n",
        "plt.ylabel('Number of Items')\n",
        "plt.show()"
      ],
      "execution_count": 67,
      "outputs": [
        {
          "output_type": "display_data",
          "data": {
            "text/plain": [
              "<Figure size 640x480 with 1 Axes>"
            ],
            "image/png": "[encoded data removed]"
          },
          "metadata": {}
        }
      ]
    },
    {
      "metadata": {
        "id": "FAN9qROlK8AJ",
        "outputId": "4b964e7e-d2e6-44fb-e2aa-fa9445122cd1",
        "colab": {
          "base_uri": "https://localhost:8080/",
          "height": 984
        }
      },
      "cell_type": "code",
      "source": [
        "# fat content vs outlet identifier\n",
        "\n",
        "Item_Fat_Content = pd.crosstab(train['Item_Fat_Content'],train['Outlet_Identifier'])\n",
        "Item_Fat_Content.div(Item_Fat_Content.sum(1).astype(float), axis=0).plot(kind=\"bar\", stacked=True, figsize=(11, 11))"
      ],
      "execution_count": 68,
      "outputs": [
        {
          "output_type": "execute_result",
          "data": {
            "text/plain": [
              "<Axes: xlabel='Item_Fat_Content'>"
            ]
          },
          "metadata": {},
          "execution_count": 68
        },
        {
          "output_type": "display_data",
          "data": {
            "text/plain": [
              "<Figure size 1100x1100 with 1 Axes>"
            ],
            "image/png": "[encoded data removed]"
          },
          "metadata": {}
        }
      ]
    },
    {
      "metadata": {
        "id": "_1514nPmLDD5",
        "outputId": "fdfd7f78-b496-4bac-ee89-13da6bc735ad",
        "colab": {
          "base_uri": "https://localhost:8080/",
          "height": 1000
        }
      },
      "cell_type": "code",
      "source": [
        "# fat content vs item type\n",
        "\n",
        "Item_Type = pd.crosstab(train['Item_Type'], train['Item_Fat_Content'])\n",
        "Item_Type.div(Item_Type.sum(1).astype(float), axis=0).plot(kind=\"bar\", stacked=True, figsize=(13, 13))\n"
      ],
      "execution_count": 69,
      "outputs": [
        {
          "output_type": "execute_result",
          "data": {
            "text/plain": [
              "<Axes: xlabel='Item_Type'>"
            ]
          },
          "metadata": {},
          "execution_count": 69
        },
        {
          "output_type": "display_data",
          "data": {
            "text/plain": [
              "<Figure size 1300x1300 with 1 Axes>"
            ],
            "image/png": "[encoded data removed]"
          },
          "metadata": {}
        }
      ]
    },
    {
      "metadata": {
        "id": "N2kq7aEtfuZV"
      },
      "cell_type": "markdown",
      "source": [
        "**data pre processing**"
      ]
    },
    {
      "metadata": {
        "id": "lAG7hptF9zjr",
        "outputId": "0d77a766-dcbf-4d19-ef50-35ab4bf9b6d5",
        "colab": {
          "base_uri": "https://localhost:8080/"
        }
      },
      "cell_type": "code",
      "source": [
        "# checking unique values in the columns of train dataset\n",
        "\n",
        "data.apply(lambda x: len(x.unique()))"
      ],
      "execution_count": 70,
      "outputs": [
        {
          "output_type": "execute_result",
          "data": {
            "text/plain": [
              "Item_Identifier              1543\n",
              "Item_Weight                   411\n",
              "Item_Fat_Content                5\n",
              "Item_Visibility              5277\n",
              "Item_Type                      16\n",
              "Item_MRP                     4402\n",
              "Outlet_Identifier              10\n",
              "Outlet_Establishment_Year       9\n",
              "Outlet_Size                     4\n",
              "Outlet_Location_Type            3\n",
              "Outlet_Type                     4\n",
              "dtype: int64"
            ]
          },
          "metadata": {},
          "execution_count": 70
        }
      ]
    },
    {
      "metadata": {
        "id": "QRkNUtTk9A7Q",
        "outputId": "c6766d67-4a92-4c9e-8181-0e4f557028ea",
        "colab": {
          "base_uri": "https://localhost:8080/"
        }
      },
      "cell_type": "code",
      "source": [
        "data.isnull().sum()"
      ],
      "execution_count": 71,
      "outputs": [
        {
          "output_type": "execute_result",
          "data": {
            "text/plain": [
              "Item_Identifier                 0\n",
              "Item_Weight                  1952\n",
              "Item_Fat_Content                0\n",
              "Item_Visibility                 0\n",
              "Item_Type                       0\n",
              "Item_MRP                        0\n",
              "Outlet_Identifier               0\n",
              "Outlet_Establishment_Year       0\n",
              "Outlet_Size                  3212\n",
              "Outlet_Location_Type            0\n",
              "Outlet_Type                     0\n",
              "dtype: int64"
            ]
          },
          "metadata": {},
          "execution_count": 71
        }
      ]
    },
    {
      "metadata": {
        "id": "-6U66NOh9NKK",
        "outputId": "85b832d3-bb6f-426c-fb9a-8310dff396ce",
        "colab": {
          "base_uri": "https://localhost:8080/"
        }
      },
      "cell_type": "code",
      "source": [
        "# imputing missing values\n",
        "\n",
        "data['Item_Weight'] = data['Item_Weight'].replace(0, np.NaN)\n",
        "data['Item_Weight'].fillna(data['Item_Weight'].mean(), inplace = True)\n",
        "\n",
        "data['Outlet_Size'].fillna(data['Outlet_Size'].mode()[0], inplace = True)\n",
        "\n",
        "data['Item_Outlet_Sales'] = data['Item_Outlet_Sales'].replace(0, np.NaN)\n",
        "data['Item_Outlet_Sales'].fillna(data['Item_Outlet_Sales'].mode()[0], inplace = True)\n",
        "\n",
        "data.isnull().sum()"
      ],
      "execution_count": 75,
      "outputs": [
        {
          "output_type": "execute_result",
          "data": {
            "text/plain": [
              "Item_Identifier              0\n",
              "Item_Weight                  0\n",
              "Item_Fat_Content             0\n",
              "Item_Visibility              0\n",
              "Item_Type                    0\n",
              "Item_MRP                     0\n",
              "Outlet_Identifier            0\n",
              "Outlet_Establishment_Year    0\n",
              "Outlet_Size                  0\n",
              "Outlet_Location_Type         0\n",
              "Outlet_Type                  0\n",
              "Item_Outlet_Sales            0\n",
              "dtype: int64"
            ]
          },
          "metadata": {},
          "execution_count": 75
        }
      ]
    },
    {
      "metadata": {
        "id": "TPZ2FcvwfsP1",
        "outputId": "f0d71ce9-a232-48b6-9588-a3174aba5d38",
        "colab": {
          "base_uri": "https://localhost:8080/"
        }
      },
      "cell_type": "code",
      "source": [
        "# combining reg, Regular and Low Fat, low fat and, LF\n",
        "\n",
        "\n",
        "data['Item_Fat_Content'] = data['Item_Fat_Content'].replace({'LF': 'Low Fat', 'reg': 'Regular', 'low fat': 'Low Fat'})\n",
        "data['Item_Fat_Content'].value_counts()"
      ],
      "execution_count": 76,
      "outputs": [
        {
          "output_type": "execute_result",
          "data": {
            "text/plain": [
              "Item_Fat_Content\n",
              "Low Fat    9185\n",
              "Regular    5019\n",
              "Name: count, dtype: int64"
            ]
          },
          "metadata": {},
          "execution_count": 76
        }
      ]
    },
    {
      "metadata": {
        "id": "2H6LIXAIocfB",
        "outputId": "5cb5b98c-a7f6-4787-8e91-1259bda2019f",
        "colab": {
          "base_uri": "https://localhost:8080/"
        }
      },
      "cell_type": "code",
      "source": [
        "# Getting the first two characters of ID to separate them into different categories\n",
        "\n",
        "data['Item_Identifier'] = data['Item_Identifier'].apply(lambda x: x[0:2])\n",
        "\n",
        "data['Item_Identifier'] = data['Item_Identifier'].map({'FD':'Food', 'NC':'Non_Consumable', 'DR':'Drinks'})\n",
        "\n",
        "data['Item_Identifier'].value_counts()"
      ],
      "execution_count": 77,
      "outputs": [
        {
          "output_type": "execute_result",
          "data": {
            "text/plain": [
              "Item_Identifier\n",
              "Food              10201\n",
              "Non_Consumable     2686\n",
              "Drinks             1317\n",
              "Name: count, dtype: int64"
            ]
          },
          "metadata": {},
          "execution_count": 77
        }
      ]
    },
    {
      "metadata": {
        "id": "rpmembua76pY",
        "outputId": "4a9b4b35-fdb8-4941-a366-d83e73ca7f4c",
        "colab": {
          "base_uri": "https://localhost:8080/"
        }
      },
      "cell_type": "code",
      "source": [
        "# determining the operation peroid of a time\n",
        "\n",
        "data['Outlet_Years'] = 2013 - data['Outlet_Establishment_Year']\n",
        "data['Outlet_Years'].value_counts()"
      ],
      "execution_count": 78,
      "outputs": [
        {
          "output_type": "execute_result",
          "data": {
            "text/plain": [
              "Outlet_Years\n",
              "28    2439\n",
              "26    1553\n",
              "14    1550\n",
              "16    1550\n",
              "9     1550\n",
              "11    1548\n",
              "4     1546\n",
              "6     1543\n",
              "15     925\n",
              "Name: count, dtype: int64"
            ]
          },
          "metadata": {},
          "execution_count": 78
        }
      ]
    },
    {
      "metadata": {
        "id": "Jx3h62X6IEGN"
      },
      "cell_type": "code",
      "source": [
        "# removing unnecassary columns from the dataset\n",
        "\n",
        "#data = data.drop('Item_Identifier', axis = 1)\n",
        "\n",
        "#print(data.shape)"
      ],
      "execution_count": 79,
      "outputs": []
    },
    {
      "metadata": {
        "id": "oKuTsIcZacPW",
        "outputId": "149a9c45-1e27-4d8a-e354-5e1e54f0f84d",
        "colab": {
          "base_uri": "https://localhost:8080/"
        }
      },
      "cell_type": "code",
      "source": [
        "data['Outlet_Type'].value_counts()"
      ],
      "execution_count": 81,
      "outputs": [
        {
          "output_type": "execute_result",
          "data": {
            "text/plain": [
              "Outlet_Type\n",
              "Supermarket Type1    9294\n",
              "Grocery Store        1805\n",
              "Supermarket Type3    1559\n",
              "Supermarket Type2    1546\n",
              "Name: count, dtype: int64"
            ]
          },
          "metadata": {},
          "execution_count": 81
        }
      ]
    },
    {
      "metadata": {
        "id": "Y9Bw93y0T_0x",
        "outputId": "4f9c07fc-bdaf-4d4e-8ed7-1be4b361512f",
        "colab": {
          "base_uri": "https://localhost:8080/",
          "height": 443
        }
      },
      "cell_type": "code",
      "source": [
        "# label encoding\n",
        "\n",
        "from sklearn.preprocessing import LabelEncoder\n",
        "\n",
        "data.apply(LabelEncoder().fit_transform)"
      ],
      "execution_count": 82,
      "outputs": [
        {
          "output_type": "execute_result",
          "data": {
            "text/plain": [
              "      Item_Identifier  Item_Weight  Item_Fat_Content  Item_Visibility  \\\n",
              "0                   1          284                 0             1097   \n",
              "1                   0           57                 1             1436   \n",
              "2                   1          376                 0             1172   \n",
              "3                   1          393                 1                0   \n",
              "4                   2          265                 0                0   \n",
              "...               ...          ...               ...              ...   \n",
              "5676                1          298                 1              718   \n",
              "5677                1          180                 1            11820   \n",
              "5678                2          293                 0             8009   \n",
              "5679                1          354                 1                0   \n",
              "5680                1          288                 1            10187   \n",
              "\n",
              "      Item_Type  Item_MRP  Outlet_Identifier  Outlet_Establishment_Year  \\\n",
              "0             4      7567                  9                          4   \n",
              "1            14       632                  3                          8   \n",
              "2            10      3897                  9                          4   \n",
              "3             6      5626                  0                          3   \n",
              "4             9       848                  1                          1   \n",
              "...         ...       ...                ...                        ...   \n",
              "5676         13      3881                  8                          2   \n",
              "5677         15      5069                  3                          8   \n",
              "5678          8      3196                  7                          5   \n",
              "5679          3      6626                  2                          7   \n",
              "5680          3      1523                  7                          5   \n",
              "\n",
              "      Outlet_Size  Outlet_Location_Type  Outlet_Type  Item_Outlet_Sales  \\\n",
              "0               1                     0            1               2540   \n",
              "1               1                     2            2                422   \n",
              "2               1                     0            1               1639   \n",
              "3               1                     2            0                670   \n",
              "4               0                     2            1                865   \n",
              "...           ...                   ...          ...                ...   \n",
              "5676            2                     0            1                835   \n",
              "5677            1                     2            2                835   \n",
              "5678            1                     1            1                835   \n",
              "5679            1                     1            1                835   \n",
              "5680            1                     1            1                835   \n",
              "\n",
              "      Outlet_Years  \n",
              "0                4  \n",
              "1                0  \n",
              "2                4  \n",
              "3                5  \n",
              "4                7  \n",
              "...            ...  \n",
              "5676             6  \n",
              "5677             0  \n",
              "5678             3  \n",
              "5679             1  \n",
              "5680             3  \n",
              "\n",
              "[14204 rows x 13 columns]"
            ],
            "text/html": [
              "\n",
              "  <div id=\"df-ec1cd337-15ab-4a5d-ac09-5743c5ce5c13\" class=\"colab-df-container\">\n",
              "    <div>\n",
              "<style scoped>\n",
              "    .dataframe tbody tr th:only-of-type {\n",
              "        vertical-align: middle;\n",
              "    }\n",
              "\n",
              "    .dataframe tbody tr th {\n",
              "        vertical-align: top;\n",
              "    }\n",
              "\n",
              "    .dataframe thead th {\n",
              "        text-align: right;\n",
              "    }\n",
              "</style>\n",
              "<table border=\"1\" class=\"dataframe\">\n",
              "  <thead>\n",
              "    <tr style=\"text-align: right;\">\n",
              "      <th></th>\n",
              "      <th>Item_Identifier</th>\n",
              "      <th>Item_Weight</th>\n",
              "      <th>Item_Fat_Content</th>\n",
              "      <th>Item_Visibility</th>\n",
              "      <th>Item_Type</th>\n",
              "      <th>Item_MRP</th>\n",
              "      <th>Outlet_Identifier</th>\n",
              "      <th>Outlet_Establishment_Year</th>\n",
              "      <th>Outlet_Size</th>\n",
              "      <th>Outlet_Location_Type</th>\n",
              "      <th>Outlet_Type</th>\n",
              "      <th>Item_Outlet_Sales</th>\n",
              "      <th>Outlet_Years</th>\n",
              "    </tr>\n",
              "  </thead>\n",
              "  <tbody>\n",
              "    <tr>\n",
              "      <th>0</th>\n",
              "      <td>1</td>\n",
              "      <td>284</td>\n",
              "      <td>0</td>\n",
              "      <td>1097</td>\n",
              "      <td>4</td>\n",
              "      <td>7567</td>\n",
              "      <td>9</td>\n",
              "      <td>4</td>\n",
              "      <td>1</td>\n",
              "      <td>0</td>\n",
              "      <td>1</td>\n",
              "      <td>2540</td>\n",
              "      <td>4</td>\n",
              "    </tr>\n",
              "    <tr>\n",
              "      <th>1</th>\n",
              "      <td>0</td>\n",
              "      <td>57</td>\n",
              "      <td>1</td>\n",
              "      <td>1436</td>\n",
              "      <td>14</td>\n",
              "      <td>632</td>\n",
              "      <td>3</td>\n",
              "      <td>8</td>\n",
              "      <td>1</td>\n",
              "      <td>2</td>\n",
              "      <td>2</td>\n",
              "      <td>422</td>\n",
              "      <td>0</td>\n",
              "    </tr>\n",
              "    <tr>\n",
              "      <th>2</th>\n",
              "      <td>1</td>\n",
              "      <td>376</td>\n",
              "      <td>0</td>\n",
              "      <td>1172</td>\n",
              "      <td>10</td>\n",
              "      <td>3897</td>\n",
              "      <td>9</td>\n",
              "      <td>4</td>\n",
              "      <td>1</td>\n",
              "      <td>0</td>\n",
              "      <td>1</td>\n",
              "      <td>1639</td>\n",
              "      <td>4</td>\n",
              "    </tr>\n",
              "    <tr>\n",
              "      <th>3</th>\n",
              "      <td>1</td>\n",
              "      <td>393</td>\n",
              "      <td>1</td>\n",
              "      <td>0</td>\n",
              "      <td>6</td>\n",
              "      <td>5626</td>\n",
              "      <td>0</td>\n",
              "      <td>3</td>\n",
              "      <td>1</td>\n",
              "      <td>2</td>\n",
              "      <td>0</td>\n",
              "      <td>670</td>\n",
              "      <td>5</td>\n",
              "    </tr>\n",
              "    <tr>\n",
              "      <th>4</th>\n",
              "      <td>2</td>\n",
              "      <td>265</td>\n",
              "      <td>0</td>\n",
              "      <td>0</td>\n",
              "      <td>9</td>\n",
              "      <td>848</td>\n",
              "      <td>1</td>\n",
              "      <td>1</td>\n",
              "      <td>0</td>\n",
              "      <td>2</td>\n",
              "      <td>1</td>\n",
              "      <td>865</td>\n",
              "      <td>7</td>\n",
              "    </tr>\n",
              "    <tr>\n",
              "      <th>...</th>\n",
              "      <td>...</td>\n",
              "      <td>...</td>\n",
              "      <td>...</td>\n",
              "      <td>...</td>\n",
              "      <td>...</td>\n",
              "      <td>...</td>\n",
              "      <td>...</td>\n",
              "      <td>...</td>\n",
              "      <td>...</td>\n",
              "      <td>...</td>\n",
              "      <td>...</td>\n",
              "      <td>...</td>\n",
              "      <td>...</td>\n",
              "    </tr>\n",
              "    <tr>\n",
              "      <th>5676</th>\n",
              "      <td>1</td>\n",
              "      <td>298</td>\n",
              "      <td>1</td>\n",
              "      <td>718</td>\n",
              "      <td>13</td>\n",
              "      <td>3881</td>\n",
              "      <td>8</td>\n",
              "      <td>2</td>\n",
              "      <td>2</td>\n",
              "      <td>0</td>\n",
              "      <td>1</td>\n",
              "      <td>835</td>\n",
              "      <td>6</td>\n",
              "    </tr>\n",
              "    <tr>\n",
              "      <th>5677</th>\n",
              "      <td>1</td>\n",
              "      <td>180</td>\n",
              "      <td>1</td>\n",
              "      <td>11820</td>\n",
              "      <td>15</td>\n",
              "      <td>5069</td>\n",
              "      <td>3</td>\n",
              "      <td>8</td>\n",
              "      <td>1</td>\n",
              "      <td>2</td>\n",
              "      <td>2</td>\n",
              "      <td>835</td>\n",
              "      <td>0</td>\n",
              "    </tr>\n",
              "    <tr>\n",
              "      <th>5678</th>\n",
              "      <td>2</td>\n",
              "      <td>293</td>\n",
              "      <td>0</td>\n",
              "      <td>8009</td>\n",
              "      <td>8</td>\n",
              "      <td>3196</td>\n",
              "      <td>7</td>\n",
              "      <td>5</td>\n",
              "      <td>1</td>\n",
              "      <td>1</td>\n",
              "      <td>1</td>\n",
              "      <td>835</td>\n",
              "      <td>3</td>\n",
              "    </tr>\n",
              "    <tr>\n",
              "      <th>5679</th>\n",
              "      <td>1</td>\n",
              "      <td>354</td>\n",
              "      <td>1</td>\n",
              "      <td>0</td>\n",
              "      <td>3</td>\n",
              "      <td>6626</td>\n",
              "      <td>2</td>\n",
              "      <td>7</td>\n",
              "      <td>1</td>\n",
              "      <td>1</td>\n",
              "      <td>1</td>\n",
              "      <td>835</td>\n",
              "      <td>1</td>\n",
              "    </tr>\n",
              "    <tr>\n",
              "      <th>5680</th>\n",
              "      <td>1</td>\n",
              "      <td>288</td>\n",
              "      <td>1</td>\n",
              "      <td>10187</td>\n",
              "      <td>3</td>\n",
              "      <td>1523</td>\n",
              "      <td>7</td>\n",
              "      <td>5</td>\n",
              "      <td>1</td>\n",
              "      <td>1</td>\n",
              "      <td>1</td>\n",
              "      <td>835</td>\n",
              "      <td>3</td>\n",
              "    </tr>\n",
              "  </tbody>\n",
              "</table>\n",
              "<p>14204 rows × 13 columns</p>\n",
              "</div>\n",
              "    <div class=\"colab-df-buttons\">\n",
              "\n",
              "  <div class=\"colab-df-container\">\n",
              "    <button class=\"colab-df-convert\" onclick=\"convertToInteractive('df-ec1cd337-15ab-4a5d-ac09-5743c5ce5c13')\"\n",
              "            title=\"Convert this dataframe to an interactive table.\"\n",
              "            style=\"display:none;\">\n",
              "\n",
              "  <svg xmlns=\"http://www.w3.org/2000/svg\" height=\"24px\" viewBox=\"0 -960 960 960\">\n",
              "    <path d=\"M120-120v-720h720v720H120Zm60-500h600v-160H180v160Zm220 220h160v-160H400v160Zm0 220h160v-160H400v160ZM180-400h160v-160H180v160Zm440 0h160v-160H620v160ZM180-180h160v-160H180v160Zm440 0h160v-160H620v160Z\"/>\n",
              "  </svg>\n",
              "    </button>\n",
              "\n",
              "  <style>\n",
              "    .colab-df-container {\n",
              "      display:flex;\n",
              "      gap: 12px;\n",
              "    }\n",
              "\n",
              "    .colab-df-convert {\n",
              "      background-color: #E8F0FE;\n",
              "      border: none;\n",
              "      border-radius: 50%;\n",
              "      cursor: pointer;\n",
              "      display: none;\n",
              "      fill: #1967D2;\n",
              "      height: 32px;\n",
              "      padding: 0 0 0 0;\n",
              "      width: 32px;\n",
              "    }\n",
              "\n",
              "    .colab-df-convert:hover {\n",
              "      background-color: #E2EBFA;\n",
              "      box-shadow: 0px 1px 2px rgba(60, 64, 67, 0.3), 0px 1px 3px 1px rgba(60, 64, 67, 0.15);\n",
              "      fill: #174EA6;\n",
              "    }\n",
              "\n",
              "    .colab-df-buttons div {\n",
              "      margin-bottom: 4px;\n",
              "    }\n",
              "\n",
              "    [theme=dark] .colab-df-convert {\n",
              "      background-color: #3B4455;\n",
              "      fill: #D2E3FC;\n",
              "    }\n",
              "\n",
              "    [theme=dark] .colab-df-convert:hover {\n",
              "      background-color: #434B5C;\n",
              "      box-shadow: 0px 1px 3px 1px rgba(0, 0, 0, 0.15);\n",
              "      filter: drop-shadow(0px 1px 2px rgba(0, 0, 0, 0.3));\n",
              "      fill: #FFFFFF;\n",
              "    }\n",
              "  </style>\n",
              "\n",
              "    <script>\n",
              "      const buttonEl =\n",
              "        document.querySelector('#df-ec1cd337-15ab-4a5d-ac09-5743c5ce5c13 button.colab-df-convert');\n",
              "      buttonEl.style.display =\n",
              "        google.colab.kernel.accessAllowed ? 'block' : 'none';\n",
              "\n",
              "      async function convertToInteractive(key) {\n",
              "        const element = document.querySelector('#df-ec1cd337-15ab-4a5d-ac09-5743c5ce5c13');\n",
              "        const dataTable =\n",
              "          await google.colab.kernel.invokeFunction('convertToInteractive',\n",
              "                                                    [key], {});\n",
              "        if (!dataTable) return;\n",
              "\n",
              "        const docLinkHtml = 'Like what you see? Visit the ' +\n",
              "          '<a target=\"_blank\" href=https://colab.research.google.com/notebooks/data_table.ipynb>data table notebook</a>'\n",
              "          + ' to learn more about interactive tables.';\n",
              "        element.innerHTML = '';\n",
              "        dataTable['output_type'] = 'display_data';\n",
              "        await google.colab.output.renderOutput(dataTable, element);\n",
              "        const docLink = document.createElement('div');\n",
              "        docLink.innerHTML = docLinkHtml;\n",
              "        element.appendChild(docLink);\n",
              "      }\n",
              "    </script>\n",
              "  </div>\n",
              "\n",
              "\n",
              "<div id=\"df-3e1e7754-5229-4df1-8292-00787f454743\">\n",
              "  <button class=\"colab-df-quickchart\" onclick=\"quickchart('df-3e1e7754-5229-4df1-8292-00787f454743')\"\n",
              "            title=\"Suggest charts\"\n",
              "            style=\"display:none;\">\n",
              "\n",
              "<svg xmlns=\"http://www.w3.org/2000/svg\" height=\"24px\"viewBox=\"0 0 24 24\"\n",
              "     width=\"24px\">\n",
              "    <g>\n",
              "        <path d=\"M19 3H5c-1.1 0-2 .9-2 2v14c0 1.1.9 2 2 2h14c1.1 0 2-.9 2-2V5c0-1.1-.9-2-2-2zM9 17H7v-7h2v7zm4 0h-2V7h2v10zm4 0h-2v-4h2v4z\"/>\n",
              "    </g>\n",
              "</svg>\n",
              "  </button>\n",
              "\n",
              "<style>\n",
              "  .colab-df-quickchart {\n",
              "      --bg-color: #E8F0FE;\n",
              "      --fill-color: #1967D2;\n",
              "      --hover-bg-color: #E2EBFA;\n",
              "      --hover-fill-color: #174EA6;\n",
              "      --disabled-fill-color: #AAA;\n",
              "      --disabled-bg-color: #DDD;\n",
              "  }\n",
              "\n",
              "  [theme=dark] .colab-df-quickchart {\n",
              "      --bg-color: #3B4455;\n",
              "      --fill-color: #D2E3FC;\n",
              "      --hover-bg-color: #434B5C;\n",
              "      --hover-fill-color: #FFFFFF;\n",
              "      --disabled-bg-color: #3B4455;\n",
              "      --disabled-fill-color: #666;\n",
              "  }\n",
              "\n",
              "  .colab-df-quickchart {\n",
              "    background-color: var(--bg-color);\n",
              "    border: none;\n",
              "    border-radius: 50%;\n",
              "    cursor: pointer;\n",
              "    display: none;\n",
              "    fill: var(--fill-color);\n",
              "    height: 32px;\n",
              "    padding: 0;\n",
              "    width: 32px;\n",
              "  }\n",
              "\n",
              "  .colab-df-quickchart:hover {\n",
              "    background-color: var(--hover-bg-color);\n",
              "    box-shadow: 0 1px 2px rgba(60, 64, 67, 0.3), 0 1px 3px 1px rgba(60, 64, 67, 0.15);\n",
              "    fill: var(--button-hover-fill-color);\n",
              "  }\n",
              "\n",
              "  .colab-df-quickchart-complete:disabled,\n",
              "  .colab-df-quickchart-complete:disabled:hover {\n",
              "    background-color: var(--disabled-bg-color);\n",
              "    fill: var(--disabled-fill-color);\n",
              "    box-shadow: none;\n",
              "  }\n",
              "\n",
              "  .colab-df-spinner {\n",
              "    border: 2px solid var(--fill-color);\n",
              "    border-color: transparent;\n",
              "    border-bottom-color: var(--fill-color);\n",
              "    animation:\n",
              "      spin 1s steps(1) infinite;\n",
              "  }\n",
              "\n",
              "  @keyframes spin {\n",
              "    0% {\n",
              "      border-color: transparent;\n",
              "      border-bottom-color: var(--fill-color);\n",
              "      border-left-color: var(--fill-color);\n",
              "    }\n",
              "    20% {\n",
              "      border-color: transparent;\n",
              "      border-left-color: var(--fill-color);\n",
              "      border-top-color: var(--fill-color);\n",
              "    }\n",
              "    30% {\n",
              "      border-color: transparent;\n",
              "      border-left-color: var(--fill-color);\n",
              "      border-top-color: var(--fill-color);\n",
              "      border-right-color: var(--fill-color);\n",
              "    }\n",
              "    40% {\n",
              "      border-color: transparent;\n",
              "      border-right-color: var(--fill-color);\n",
              "      border-top-color: var(--fill-color);\n",
              "    }\n",
              "    60% {\n",
              "      border-color: transparent;\n",
              "      border-right-color: var(--fill-color);\n",
              "    }\n",
              "    80% {\n",
              "      border-color: transparent;\n",
              "      border-right-color: var(--fill-color);\n",
              "      border-bottom-color: var(--fill-color);\n",
              "    }\n",
              "    90% {\n",
              "      border-color: transparent;\n",
              "      border-bottom-color: var(--fill-color);\n",
              "    }\n",
              "  }\n",
              "</style>\n",
              "\n",
              "  <script>\n",
              "    async function quickchart(key) {\n",
              "      const quickchartButtonEl =\n",
              "        document.querySelector('#' + key + ' button');\n",
              "      quickchartButtonEl.disabled = true;  // To prevent multiple clicks.\n",
              "      quickchartButtonEl.classList.add('colab-df-spinner');\n",
              "      try {\n",
              "        const charts = await google.colab.kernel.invokeFunction(\n",
              "            'suggestCharts', [key], {});\n",
              "      } catch (error) {\n",
              "        console.error('Error during call to suggestCharts:', error);\n",
              "      }\n",
              "      quickchartButtonEl.classList.remove('colab-df-spinner');\n",
              "      quickchartButtonEl.classList.add('colab-df-quickchart-complete');\n",
              "    }\n",
              "    (() => {\n",
              "      let quickchartButtonEl =\n",
              "        document.querySelector('#df-3e1e7754-5229-4df1-8292-00787f454743 button');\n",
              "      quickchartButtonEl.style.display =\n",
              "        google.colab.kernel.accessAllowed ? 'block' : 'none';\n",
              "    })();\n",
              "  </script>\n",
              "</div>\n",
              "    </div>\n",
              "  </div>\n"
            ],
            "application/vnd.google.colaboratory.intrinsic+json": {
              "type": "dataframe",
              "summary": "{\n  \"name\": \"data\",\n  \"rows\": 14204,\n  \"fields\": [\n    {\n      \"column\": \"Item_Identifier\",\n      \"properties\": {\n        \"dtype\": \"number\",\n        \"std\": 0,\n        \"min\": 0,\n        \"max\": 2,\n        \"num_unique_values\": 3,\n        \"samples\": [\n          1,\n          0,\n          2\n        ],\n        \"semantic_type\": \"\",\n        \"description\": \"\"\n      }\n    },\n    {\n      \"column\": \"Item_Weight\",\n      \"properties\": {\n        \"dtype\": \"number\",\n        \"std\": 96,\n        \"min\": 0,\n        \"max\": 415,\n        \"num_unique_values\": 416,\n        \"samples\": [\n          349,\n          281,\n          128\n        ],\n        \"semantic_type\": \"\",\n        \"description\": \"\"\n      }\n    },\n    {\n      \"column\": \"Item_Fat_Content\",\n      \"properties\": {\n        \"dtype\": \"number\",\n        \"std\": 0,\n        \"min\": 0,\n        \"max\": 1,\n        \"num_unique_values\": 2,\n        \"samples\": [\n          1,\n          0\n        ],\n        \"semantic_type\": \"\",\n        \"description\": \"\"\n      }\n    },\n    {\n      \"column\": \"Item_Visibility\",\n      \"properties\": {\n        \"dtype\": \"number\",\n        \"std\": 3955,\n        \"min\": 0,\n        \"max\": 13005,\n        \"num_unique_values\": 13006,\n        \"samples\": [\n          259,\n          12289\n        ],\n        \"semantic_type\": \"\",\n        \"description\": \"\"\n      }\n    },\n    {\n      \"column\": \"Item_Type\",\n      \"properties\": {\n        \"dtype\": \"number\",\n        \"std\": 4,\n        \"min\": 0,\n        \"max\": 15,\n        \"num_unique_values\": 16,\n        \"samples\": [\n          4,\n          14\n        ],\n        \"semantic_type\": \"\",\n        \"description\": \"\"\n      }\n    },\n    {\n      \"column\": \"Item_MRP\",\n      \"properties\": {\n        \"dtype\": \"number\",\n        \"std\": 2240,\n        \"min\": 0,\n        \"max\": 8051,\n        \"num_unique_values\": 8052,\n        \"samples\": [\n          4299,\n          4341\n        ],\n        \"semantic_type\": \"\",\n        \"description\": \"\"\n      }\n    },\n    {\n      \"column\": \"Outlet_Identifier\",\n      \"properties\": {\n        \"dtype\": \"number\",\n        \"std\": 2,\n        \"min\": 0,\n        \"max\": 9,\n        \"num_unique_values\": 10,\n        \"samples\": [\n          6,\n          3\n        ],\n        \"semantic_type\": \"\",\n        \"description\": \"\"\n      }\n    },\n    {\n      \"column\": \"Outlet_Establishment_Year\",\n      \"properties\": {\n        \"dtype\": \"number\",\n        \"std\": 2,\n        \"min\": 0,\n        \"max\": 8,\n        \"num_unique_values\": 9,\n        \"samples\": [\n          2,\n          8\n        ],\n        \"semantic_type\": \"\",\n        \"description\": \"\"\n      }\n    },\n    {\n      \"column\": \"Outlet_Size\",\n      \"properties\": {\n        \"dtype\": \"number\",\n        \"std\": 0,\n        \"min\": 0,\n        \"max\": 2,\n        \"num_unique_values\": 3,\n        \"samples\": [\n          1,\n          0\n        ],\n        \"semantic_type\": \"\",\n        \"description\": \"\"\n      }\n    },\n    {\n      \"column\": \"Outlet_Location_Type\",\n      \"properties\": {\n        \"dtype\": \"number\",\n        \"std\": 0,\n        \"min\": 0,\n        \"max\": 2,\n        \"num_unique_values\": 3,\n        \"samples\": [\n          0,\n          2\n        ],\n        \"semantic_type\": \"\",\n        \"description\": \"\"\n      }\n    },\n    {\n      \"column\": \"Outlet_Type\",\n      \"properties\": {\n        \"dtype\": \"number\",\n        \"std\": 0,\n        \"min\": 0,\n        \"max\": 3,\n        \"num_unique_values\": 4,\n        \"samples\": [\n          2,\n          3\n        ],\n        \"semantic_type\": \"\",\n        \"description\": \"\"\n      }\n    },\n    {\n      \"column\": \"Item_Outlet_Sales\",\n      \"properties\": {\n        \"dtype\": \"number\",\n        \"std\": 787,\n        \"min\": 0,\n        \"max\": 3492,\n        \"num_unique_values\": 3493,\n        \"samples\": [\n          3125,\n          3458\n        ],\n        \"semantic_type\": \"\",\n        \"description\": \"\"\n      }\n    },\n    {\n      \"column\": \"Outlet_Years\",\n      \"properties\": {\n        \"dtype\": \"number\",\n        \"std\": 2,\n        \"min\": 0,\n        \"max\": 8,\n        \"num_unique_values\": 9,\n        \"samples\": [\n          6,\n          0\n        ],\n        \"semantic_type\": \"\",\n        \"description\": \"\"\n      }\n    }\n  ]\n}"
            }
          },
          "metadata": {},
          "execution_count": 82
        }
      ]
    },
    {
      "metadata": {
        "id": "FWT0tOXqB2rn",
        "outputId": "a3173bfd-33c8-4bff-e5d7-1567ba0a1127",
        "colab": {
          "base_uri": "https://localhost:8080/"
        }
      },
      "cell_type": "code",
      "source": [
        "# one hot encoding\n",
        "\n",
        "data = pd.get_dummies(data)\n",
        "\n",
        "print(data.shape)"
      ],
      "execution_count": 83,
      "outputs": [
        {
          "output_type": "stream",
          "name": "stdout",
          "text": [
            "(14204, 47)\n"
          ]
        }
      ]
    },
    {
      "metadata": {
        "id": "aFLPI6s6F9wd",
        "outputId": "ba5a4c98-192d-4a92-d93c-0077a0f5eafe",
        "colab": {
          "base_uri": "https://localhost:8080/"
        }
      },
      "cell_type": "code",
      "source": [
        "# splitting the data into dependent and independent variables\n",
        "\n",
        "x = data.drop('Item_Outlet_Sales', axis = 1)\n",
        "y = data.Item_Outlet_Sales\n",
        "\n",
        "print(x.shape)\n",
        "print(y.shape)"
      ],
      "execution_count": 84,
      "outputs": [
        {
          "output_type": "stream",
          "name": "stdout",
          "text": [
            "(14204, 46)\n",
            "(14204,)\n"
          ]
        }
      ]
    },
    {
      "metadata": {
        "id": "WiIC8tLGG5tD",
        "outputId": "3fb1ab3c-9206-4425-df16-8f6f4f56f50d",
        "colab": {
          "base_uri": "https://localhost:8080/"
        }
      },
      "cell_type": "code",
      "source": [
        "# splitting the dataset into train and test\n",
        "\n",
        "train = data.iloc[:8523,:]\n",
        "test = data.iloc[8523:,:]\n",
        "\n",
        "print(train.shape)\n",
        "print(test.shape)"
      ],
      "execution_count": 85,
      "outputs": [
        {
          "output_type": "stream",
          "name": "stdout",
          "text": [
            "(8523, 47)\n",
            "(5681, 47)\n"
          ]
        }
      ]
    },
    {
      "metadata": {
        "id": "iZVLdlz1I8Gz",
        "outputId": "5e4403ab-b141-4631-8329-b72b40f8c573",
        "colab": {
          "base_uri": "https://localhost:8080/"
        }
      },
      "cell_type": "code",
      "source": [
        "# making x_train, x_test, y_train, y_test\n",
        "\n",
        "from sklearn.model_selection import train_test_split\n",
        "\n",
        "\n",
        "x_train, x_test, y_train, y_test = train_test_split(x, y, test_size = 0.3)\n",
        "\n",
        "print(x_train.shape)\n",
        "print(y_train.shape)\n",
        "print(x_test.shape)\n",
        "print(y_test.shape)"
      ],
      "execution_count": 127,
      "outputs": [
        {
          "output_type": "stream",
          "name": "stdout",
          "text": [
            "(9942, 46)\n",
            "(9942,)\n",
            "(4262, 46)\n",
            "(4262,)\n"
          ]
        }
      ]
    },
    {
      "metadata": {
        "id": "hYcMSR4tLHJT"
      },
      "cell_type": "markdown",
      "source": [
        "**Modelling**"
      ]
    },
    {
      "metadata": {
        "id": "YKGQZU2cLLSH"
      },
      "cell_type": "markdown",
      "source": [
        "**Linear Regression**"
      ]
    },
    {
      "metadata": {
        "id": "DkJcqm9GfggD",
        "outputId": "c01c4b7b-3f7d-470e-8144-46fa0aeee2fc",
        "colab": {
          "base_uri": "https://localhost:8080/"
        }
      },
      "cell_type": "code",
      "source": [
        "from sklearn.linear_model import LinearRegression\n",
        "from sklearn.metrics import mean_squared_error\n",
        "from sklearn.metrics import r2_score\n",
        "\n",
        "model = LinearRegression()\n",
        "model.fit(x_train, y_train)\n",
        "\n",
        "# predicting the  test set results\n",
        "y_pred = model.predict(x_test)\n",
        "print(y_pred)\n",
        "\n",
        "# finding the mean squared error and variance\n",
        "mse = mean_squared_error(y_test, y_pred)\n",
        "print('RMSE :', np.sqrt(mse))\n",
        "print('Variance score: %.2f' % r2_score(y_test, y_pred))\n"
      ],
      "execution_count": 128,
      "outputs": [
        {
          "output_type": "stream",
          "name": "stdout",
          "text": [
            "[1320. 3440. 1720. ... 1296. 1000. 2848.]\n",
            "RMSE : 1268.6548501327484\n",
            "Variance score: 0.28\n"
          ]
        }
      ]
    },
    {
      "metadata": {
        "id": "9Dw0XhOUjLwT"
      },
      "cell_type": "markdown",
      "source": [
        "**AdaBoost Regressor**"
      ]
    },
    {
      "metadata": {
        "id": "slCa1K8gRJW4",
        "outputId": "072410e5-83cb-4514-a208-24b8df2cee7e",
        "colab": {
          "base_uri": "https://localhost:8080/"
        }
      },
      "cell_type": "code",
      "source": [
        "from sklearn.ensemble import AdaBoostRegressor\n",
        "\n",
        "model= AdaBoostRegressor(n_estimators = 100)\n",
        "model.fit(x_train, y_train)\n",
        "\n",
        "# predicting the test set results\n",
        "y_pred = model.predict(x_test)\n",
        "\n",
        "# RMSE\n",
        "mse = mean_squared_error(y_test, y_pred)\n",
        "print(\"RMSE :\", np.sqrt(mse))\n"
      ],
      "execution_count": 129,
      "outputs": [
        {
          "output_type": "stream",
          "name": "stdout",
          "text": [
            "RMSE : 1340.1111507100659\n"
          ]
        }
      ]
    },
    {
      "metadata": {
        "id": "jEtvLeXtSRdl"
      },
      "cell_type": "markdown",
      "source": [
        "**XgBoost Regressor**"
      ]
    },
    {
      "metadata": {
        "id": "08tGyTmxSWLq",
        "outputId": "a978f8b5-0178-40ec-a495-4cb1640af557",
        "colab": {
          "base_uri": "https://localhost:8080/"
        }
      },
      "cell_type": "code",
      "source": [
        "from sklearn.ensemble import GradientBoostingRegressor\n",
        "\n",
        "model = GradientBoostingRegressor()\n",
        "model.fit(x_train, y_train)\n",
        "\n",
        "# predicting the test set results\n",
        "y_pred = model.predict(x_test)\n",
        "print(y_pred)\n",
        "\n",
        "# Calculating the root mean squared error\n",
        "print(\"RMSE :\", np.sqrt(((y_test - y_pred)**2).sum()/len(y_test)))"
      ],
      "execution_count": 130,
      "outputs": [
        {
          "output_type": "stream",
          "name": "stdout",
          "text": [
            "[1357.8120991  3651.58606202 1762.87617748 ... 1267.71106472  950.90244609\n",
            " 2167.19050812]\n",
            "RMSE : 1260.3736465471848\n"
          ]
        }
      ]
    },
    {
      "metadata": {
        "id": "tpmO4CCljW5p"
      },
      "cell_type": "markdown",
      "source": [
        "**Random Forest Regression**"
      ]
    },
    {
      "metadata": {
        "id": "PwGPKIu9DCCa",
        "outputId": "748fd76b-0a7a-436f-a36d-cc2069f18edc",
        "colab": {
          "base_uri": "https://localhost:8080/"
        }
      },
      "cell_type": "code",
      "source": [
        "from sklearn.ensemble import RandomForestRegressor\n",
        "\n",
        "model = RandomForestRegressor(n_estimators = 100 , n_jobs = -1)\n",
        "model.fit(x_train, y_train)\n",
        "\n",
        "# predicting the  test set results\n",
        "y_pred = model.predict(x_test)\n",
        "print(y_pred)\n",
        "\n",
        "# finding the mean squared error and variance\n",
        "mse = mean_squared_error(y_test, y_pred)\n",
        "print(\"RMSE :\",np.sqrt(mse))\n",
        "print('Variance score: %.2f' % r2_score(y_test, y_pred))\n",
        "\n",
        "print(\"Result :\",model.score(x_train, y_train))\n"
      ],
      "execution_count": 131,
      "outputs": [
        {
          "output_type": "stream",
          "name": "stdout",
          "text": [
            "[1185.72322  3661.00117  1594.65758  ... 1157.020582 1013.227756\n",
            " 2832.765944]\n",
            "RMSE : 1332.8900263976657\n",
            "Variance score: 0.20\n",
            "Result : 0.8900763636221309\n"
          ]
        }
      ]
    },
    {
      "metadata": {
        "id": "YHAsYzHpHhNT"
      },
      "cell_type": "markdown",
      "source": [
        "**Decision Tree Regressor**"
      ]
    },
    {
      "metadata": {
        "id": "dv6bPTeoDCI8",
        "outputId": "d7cf10d0-ab6e-492b-be4c-ba7ee0d7c970",
        "colab": {
          "base_uri": "https://localhost:8080/"
        }
      },
      "cell_type": "code",
      "source": [
        "from sklearn.tree import DecisionTreeRegressor\n",
        "\n",
        "model = DecisionTreeRegressor()\n",
        "model.fit(x_train, y_train)\n",
        "\n",
        "# predicting the test set results\n",
        "y_pred = model.predict(x_test)\n",
        "print(y_pred)\n",
        "\n",
        "print(\" RMSE : \" , np.sqrt(((y_test - y_pred)**2).sum()/len(y_test)))"
      ],
      "execution_count": 132,
      "outputs": [
        {
          "output_type": "stream",
          "name": "stdout",
          "text": [
            "[1158.492  7170.666  2750.4198 ...  958.752  1209.7586 2914.8724]\n",
            " RMSE :  1770.4416330871948\n"
          ]
        }
      ]
    },
    {
      "metadata": {
        "id": "HPzhV_tGZdjK"
      },
      "cell_type": "markdown",
      "source": [
        "**Support vector machine**"
      ]
    },
    {
      "metadata": {
        "id": "jSVLYKUdZdDN",
        "outputId": "d8541413-857f-4c7a-cb1e-26548dc38cec",
        "colab": {
          "base_uri": "https://localhost:8080/"
        }
      },
      "cell_type": "code",
      "source": [
        "from sklearn.svm import SVR\n",
        "\n",
        "model = SVR()\n",
        "model.fit(x_train, y_train)\n",
        "\n",
        "# predicting the x test results\n",
        "y_pred = model.predict(x_test)\n",
        "\n",
        "# Calculating the RMSE Score\n",
        "mse = mean_squared_error(y_test, y_pred)\n",
        "print(\"RMSE :\", np.sqrt(mse))\n"
      ],
      "execution_count": 133,
      "outputs": [
        {
          "output_type": "stream",
          "name": "stdout",
          "text": [
            "RMSE : 1677.9764519047471\n"
          ]
        }
      ]
    },
    {
      "metadata": {
        "id": "MymOe0RbR9mL"
      },
      "cell_type": "markdown",
      "source": [
        "**Neural Networks**"
      ]
    },
    {
      "cell_type": "code",
      "source": [
        "import numpy as np\n",
        "import tensorflow as tf\n",
        "import matplotlib.pyplot as plt\n",
        "\n",
        "# Ensure compatibility mode is enabled\n",
        "tf.compat.v1.disable_eager_execution()\n",
        "\n",
        "# Example data initialization\n",
        "# Replace these lines with your actual data\n",
        "x_train = np.random.rand(100, 10)  # Replace with actual data\n",
        "x_test = np.random.rand(20, 10)    # Replace with actual data\n",
        "y_train = np.random.rand(100, 1)   # Replace with actual data\n",
        "y_test = np.random.rand(20, 1)     # Replace with actual data\n",
        "\n",
        "x_train = np.asmatrix(x_train)\n",
        "x_test = np.asmatrix(x_test)\n",
        "y_train = np.asmatrix(y_train.T).T\n",
        "y_test = np.asmatrix(y_test.T).T\n",
        "\n",
        "print(x_train.shape)\n",
        "print(x_test.shape)\n",
        "print(y_train.shape)\n",
        "print(y_test.shape)\n",
        "D = x_train.shape[1]  # Use shape[1] to get the number of features\n",
        "\n",
        "# Creating the placeholders for storing the X and Y variables\n",
        "tf_X = tf.compat.v1.placeholder(tf.float32, [None, D])\n",
        "tf_Y = tf.compat.v1.placeholder(tf.float32, [None, 1])\n",
        "\n",
        "# Layer 1\n",
        "W1 = tf.Variable(tf.random.normal([D, 20], stddev=0.01))\n",
        "b1 = tf.Variable(tf.zeros([20]))\n",
        "Layer_1 = tf.nn.relu(tf.matmul(tf_X, W1) + b1)\n",
        "\n",
        "# Layer 2\n",
        "W2 = tf.Variable(tf.random.normal([20, 15], stddev=0.01))\n",
        "b2 = tf.Variable(tf.zeros([15]))\n",
        "Layer_2 = tf.nn.relu(tf.matmul(Layer_1, W2) + b2)\n",
        "\n",
        "# Layer 3\n",
        "W3 = tf.Variable(tf.random.normal([15, 10], stddev=0.01))\n",
        "b3 = tf.Variable(tf.zeros([10]))\n",
        "Layer_3 = tf.nn.relu(tf.matmul(Layer_2, W3) + b3)\n",
        "\n",
        "# Output layer\n",
        "W4 = tf.Variable(tf.random.normal([10, 1], stddev=0.01))\n",
        "b4 = tf.Variable(tf.zeros([1]))\n",
        "output = tf.add(tf.matmul(Layer_3, W4), b4)\n",
        "\n",
        "# Defining the cost function\n",
        "cost = tf.reduce_mean(tf.square(output - tf_Y))\n",
        "\n",
        "# Defining the function for Gradient Descent\n",
        "train = tf.compat.v1.train.GradientDescentOptimizer(0.0001).minimize(cost)\n",
        "\n",
        "# Running the session\n",
        "with tf.compat.v1.Session() as sess:\n",
        "    sess.run(tf.compat.v1.global_variables_initializer())\n",
        "\n",
        "    ctrain = []\n",
        "    ctest = []\n",
        "    for i in range(10000):\n",
        "        sess.run(train, feed_dict={tf_X: x_train, tf_Y: y_train})\n",
        "\n",
        "        train_cost = sess.run(cost, feed_dict={tf_X: x_train, tf_Y: y_train})\n",
        "        test_cost = sess.run(cost, feed_dict={tf_X: x_test, tf_Y: y_test})\n",
        "        ctrain.append(train_cost)\n",
        "        ctest.append(test_cost)\n",
        "\n",
        "        if (i + 1) % 100 == 0:\n",
        "            print(f'Epoch {i + 1}, Training Cost: {train_cost}, Testing Cost: {test_cost}')\n",
        "\n",
        "# Visualization of training data\n",
        "plt.plot(ctrain)\n",
        "plt.title(\"Training Costs vs Epochs\")\n",
        "plt.xlabel(\"Epochs\")\n",
        "plt.ylabel(\"Costs\")\n",
        "plt.show()\n",
        "\n",
        "# Visualization of testing data\n",
        "plt.plot(ctest)\n",
        "plt.title(\"Testing Costs vs Epochs\")\n",
        "plt.xlabel(\"Epochs\")\n",
        "plt.ylabel(\"Costs\")\n",
        "plt.show()\n"
      ],
      "metadata": {
        "colab": {
          "base_uri": "https://localhost:8080/",
          "height": 1000
        },
        "id": "V2-8se7kcdq6",
        "outputId": "087118b1-e991-46ca-f8d6-406d9e6051af"
      },
      "execution_count": 136,
      "outputs": [
        {
          "output_type": "stream",
          "name": "stdout",
          "text": [
            "(100, 10)\n",
            "(20, 10)\n",
            "(100, 1)\n",
            "(20, 1)\n",
            "Epoch 100, Training Cost: 0.3740482032299042, Testing Cost: 0.27959367632865906\n",
            "Epoch 200, Training Cost: 0.36257025599479675, Testing Cost: 0.270137220621109\n",
            "Epoch 300, Training Cost: 0.35154250264167786, Testing Cost: 0.2610909640789032\n",
            "Epoch 400, Training Cost: 0.34094738960266113, Testing Cost: 0.2524380087852478\n",
            "Epoch 500, Training Cost: 0.3307678699493408, Testing Cost: 0.2441621720790863\n",
            "Epoch 600, Training Cost: 0.3209875822067261, Testing Cost: 0.2362479716539383\n",
            "Epoch 700, Training Cost: 0.3115910291671753, Testing Cost: 0.22868041694164276\n",
            "Epoch 800, Training Cost: 0.30256298184394836, Testing Cost: 0.221445232629776\n",
            "Epoch 900, Training Cost: 0.2938890755176544, Testing Cost: 0.2145286500453949\n",
            "Epoch 1000, Training Cost: 0.28555548191070557, Testing Cost: 0.2079174965620041\n",
            "Epoch 1100, Training Cost: 0.27754873037338257, Testing Cost: 0.20159916579723358\n",
            "Epoch 1200, Training Cost: 0.2698560357093811, Testing Cost: 0.1955614537000656\n",
            "Epoch 1300, Training Cost: 0.26246511936187744, Testing Cost: 0.189792662858963\n",
            "Epoch 1400, Training Cost: 0.2553640902042389, Testing Cost: 0.18428167700767517\n",
            "Epoch 1500, Training Cost: 0.24854163825511932, Testing Cost: 0.17901775240898132\n",
            "Epoch 1600, Training Cost: 0.24198681116104126, Testing Cost: 0.17399057745933533\n",
            "Epoch 1700, Training Cost: 0.23568908870220184, Testing Cost: 0.16919024288654327\n",
            "Epoch 1800, Training Cost: 0.22963842749595642, Testing Cost: 0.16460728645324707\n",
            "Epoch 1900, Training Cost: 0.22382497787475586, Testing Cost: 0.1602325439453125\n",
            "Epoch 2000, Training Cost: 0.21823985874652863, Testing Cost: 0.15605753660202026\n",
            "Epoch 2100, Training Cost: 0.2128736823797226, Testing Cost: 0.15207357704639435\n",
            "Epoch 2200, Training Cost: 0.20771797001361847, Testing Cost: 0.14827270805835724\n",
            "Epoch 2300, Training Cost: 0.20276445150375366, Testing Cost: 0.14464719593524933\n",
            "Epoch 2400, Training Cost: 0.19800527393817902, Testing Cost: 0.14118973910808563\n",
            "Epoch 2500, Training Cost: 0.19343280792236328, Testing Cost: 0.1378931850194931\n",
            "Epoch 2600, Training Cost: 0.1890396624803543, Testing Cost: 0.13475067913532257\n",
            "Epoch 2700, Training Cost: 0.184818834066391, Testing Cost: 0.13175572454929352\n",
            "Epoch 2800, Training Cost: 0.1807635873556137, Testing Cost: 0.12890207767486572\n",
            "Epoch 2900, Training Cost: 0.17686739563941956, Testing Cost: 0.1261836737394333\n",
            "Epoch 3000, Training Cost: 0.1731240451335907, Testing Cost: 0.12359479814767838\n",
            "Epoch 3100, Training Cost: 0.16952747106552124, Testing Cost: 0.1211298480629921\n",
            "Epoch 3200, Training Cost: 0.1660720258951187, Testing Cost: 0.11878359317779541\n",
            "Epoch 3300, Training Cost: 0.1627521514892578, Testing Cost: 0.11655092239379883\n",
            "Epoch 3400, Training Cost: 0.15956251323223114, Testing Cost: 0.11442694813013077\n",
            "Epoch 3500, Training Cost: 0.1564980000257492, Testing Cost: 0.11240696907043457\n",
            "Epoch 3600, Training Cost: 0.15355366468429565, Testing Cost: 0.11048652231693268\n",
            "Epoch 3700, Training Cost: 0.15072482824325562, Testing Cost: 0.10866127908229828\n",
            "Epoch 3800, Training Cost: 0.14800697565078735, Testing Cost: 0.10692713409662247\n",
            "Epoch 3900, Training Cost: 0.14539572596549988, Testing Cost: 0.10528011620044708\n",
            "Epoch 4000, Training Cost: 0.1428869068622589, Testing Cost: 0.10371643304824829\n",
            "Epoch 4100, Training Cost: 0.14047649502754211, Testing Cost: 0.1022324338555336\n",
            "Epoch 4200, Training Cost: 0.13816064596176147, Testing Cost: 0.10082460939884186\n",
            "Epoch 4300, Training Cost: 0.13593563437461853, Testing Cost: 0.09948968142271042\n",
            "Epoch 4400, Training Cost: 0.13379792869091034, Testing Cost: 0.09822440147399902\n",
            "Epoch 4500, Training Cost: 0.13174405694007874, Testing Cost: 0.09702567011117935\n",
            "Epoch 4600, Training Cost: 0.12977072596549988, Testing Cost: 0.09589056670665741\n",
            "Epoch 4700, Training Cost: 0.12787483632564545, Testing Cost: 0.09481628239154816\n",
            "Epoch 4800, Training Cost: 0.12605328857898712, Testing Cost: 0.09380008280277252\n",
            "Epoch 4900, Training Cost: 0.12430322915315628, Testing Cost: 0.09283940494060516\n",
            "Epoch 5000, Training Cost: 0.1226218193769455, Testing Cost: 0.09193174540996552\n",
            "Epoch 5100, Training Cost: 0.12100637704133987, Testing Cost: 0.09107470512390137\n",
            "Epoch 5200, Training Cost: 0.1194542869925499, Testing Cost: 0.09026601165533066\n",
            "Epoch 5300, Training Cost: 0.11796309798955917, Testing Cost: 0.08950348198413849\n",
            "Epoch 5400, Training Cost: 0.1165304183959961, Testing Cost: 0.08878501504659653\n",
            "Epoch 5500, Training Cost: 0.11515385657548904, Testing Cost: 0.08810856193304062\n",
            "Epoch 5600, Training Cost: 0.11383137106895447, Testing Cost: 0.08747229725122452\n",
            "Epoch 5700, Training Cost: 0.11256074160337448, Testing Cost: 0.08687429130077362\n",
            "Epoch 5800, Training Cost: 0.11133995652198792, Testing Cost: 0.08631281554698944\n",
            "Epoch 5900, Training Cost: 0.11016707122325897, Testing Cost: 0.08578616380691528\n",
            "Epoch 6000, Training Cost: 0.10904020071029663, Testing Cost: 0.08529271930456161\n",
            "Epoch 6100, Training Cost: 0.10795750468969345, Testing Cost: 0.08483092486858368\n",
            "Epoch 6200, Training Cost: 0.10691733658313751, Testing Cost: 0.08439932763576508\n",
            "Epoch 6300, Training Cost: 0.10591793060302734, Testing Cost: 0.0839964747428894\n",
            "Epoch 6400, Training Cost: 0.10495775938034058, Testing Cost: 0.08362100273370743\n",
            "Epoch 6500, Training Cost: 0.10403524339199066, Testing Cost: 0.08327160775661469\n",
            "Epoch 6600, Training Cost: 0.10314896702766418, Testing Cost: 0.08294708281755447\n",
            "Epoch 6700, Training Cost: 0.10229740291833878, Testing Cost: 0.08264616876840591\n",
            "Epoch 6800, Training Cost: 0.10147926211357117, Testing Cost: 0.08236775547266006\n",
            "Epoch 6900, Training Cost: 0.1006932184100151, Testing Cost: 0.08211074769496918\n",
            "Epoch 7000, Training Cost: 0.09993799030780792, Testing Cost: 0.08187409490346909\n",
            "Epoch 7100, Training Cost: 0.0992124006152153, Testing Cost: 0.0816567987203598\n",
            "Epoch 7200, Training Cost: 0.09851527959108353, Testing Cost: 0.08145789802074432\n",
            "Epoch 7300, Training Cost: 0.09784549474716187, Testing Cost: 0.08127647638320923\n",
            "Epoch 7400, Training Cost: 0.09720199555158615, Testing Cost: 0.08111164718866348\n",
            "Epoch 7500, Training Cost: 0.09658374637365341, Testing Cost: 0.08096258342266083\n",
            "Epoch 7600, Training Cost: 0.09598974138498306, Testing Cost: 0.0808284804224968\n",
            "Epoch 7700, Training Cost: 0.09541904181241989, Testing Cost: 0.0807085782289505\n",
            "Epoch 7800, Training Cost: 0.09487073123455048, Testing Cost: 0.08060212433338165\n",
            "Epoch 7900, Training Cost: 0.09434393048286438, Testing Cost: 0.08050842583179474\n",
            "Epoch 8000, Training Cost: 0.09383779764175415, Testing Cost: 0.08042681962251663\n",
            "Epoch 8100, Training Cost: 0.09335151314735413, Testing Cost: 0.0803566500544548\n",
            "Epoch 8200, Training Cost: 0.09288432449102402, Testing Cost: 0.0802973285317421\n",
            "Epoch 8300, Training Cost: 0.09243543446063995, Testing Cost: 0.08024824410676956\n",
            "Epoch 8400, Training Cost: 0.09200417250394821, Testing Cost: 0.08020884543657303\n",
            "Epoch 8500, Training Cost: 0.09158985316753387, Testing Cost: 0.08017860352993011\n",
            "Epoch 8600, Training Cost: 0.09119176119565964, Testing Cost: 0.08015701919794083\n",
            "Epoch 8700, Training Cost: 0.09080927819013596, Testing Cost: 0.08014358580112457\n",
            "Epoch 8800, Training Cost: 0.09044181555509567, Testing Cost: 0.08013784885406494\n",
            "Epoch 8900, Training Cost: 0.09008876979351044, Testing Cost: 0.08013936132192612\n",
            "Epoch 9000, Training Cost: 0.08974955230951309, Testing Cost: 0.08014769107103348\n",
            "Epoch 9100, Training Cost: 0.08942366391420364, Testing Cost: 0.08016245812177658\n",
            "Epoch 9200, Training Cost: 0.08911055326461792, Testing Cost: 0.0801832526922226\n",
            "Epoch 9300, Training Cost: 0.08880973607301712, Testing Cost: 0.08020971715450287\n",
            "Epoch 9400, Training Cost: 0.08852070569992065, Testing Cost: 0.08024150133132935\n",
            "Epoch 9500, Training Cost: 0.0882430151104927, Testing Cost: 0.08027826994657516\n",
            "Epoch 9600, Training Cost: 0.08797621726989746, Testing Cost: 0.08031969517469406\n",
            "Epoch 9700, Training Cost: 0.08771990984678268, Testing Cost: 0.08036549389362335\n",
            "Epoch 9800, Training Cost: 0.08747363835573196, Testing Cost: 0.08041535317897797\n",
            "Epoch 9900, Training Cost: 0.08723704516887665, Testing Cost: 0.08046900480985641\n",
            "Epoch 10000, Training Cost: 0.08700971305370331, Testing Cost: 0.0805261880159378\n"
          ]
        },
        {
          "output_type": "display_data",
          "data": {
            "text/plain": [
              "<Figure size 640x480 with 1 Axes>"
            ],
            "image/png": "[encoded data removed]"
          },
          "metadata": {}
        },
        {
          "output_type": "display_data",
          "data": {
            "text/plain": [
              "<Figure size 640x480 with 1 Axes>"
            ],
            "image/png": "[encoded data removed]"
          },
          "metadata": {}
        }
      ]
    }
  ]
}